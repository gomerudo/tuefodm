{
  "nbformat": 4,
  "nbformat_minor": 0,
  "metadata": {
    "colab": {
      "name": "Assignment 4.ipynb",
      "version": "0.3.2",
      "views": {},
      "default_view": {},
      "provenance": [],
      "collapsed_sections": []
    },
    "kernelspec": {
      "display_name": "Python 3",
      "language": "python",
      "name": "python3"
    },
    "accelerator": "GPU"
  },
  "cells": [
    {
      "metadata": {
        "id": "Cldva427KD_m",
        "colab_type": "text"
      },
      "cell_type": "markdown",
      "source": [
        "# Foundations of Data Mining: Assignment 4\n",
        "\n",
        "Please complete all assignments in this notebook. You should submit this notebook, as well as a PDF version (See File > Download as).\n",
        "\n",
        "**Deadline:** Thursday, April 12, 2018"
      ]
    },
    {
      "metadata": {
        "id": "Q_m_H-ZmKD_n",
        "colab_type": "code",
        "colab": {
          "autoexec": {
            "startup": false,
            "wait_interval": 0
          }
        }
      },
      "cell_type": "code",
      "source": [
        "# Please fill in your names here\n",
        "NAME_STUDENT_1 = \"A. Siganos\"\n",
        "NAME_STUDENT_2 = \"J. Gómez Robles\""
      ],
      "execution_count": 0,
      "outputs": []
    },
    {
      "metadata": {
        "id": "nZ5SygS2KD_q",
        "colab_type": "code",
        "colab": {
          "autoexec": {
            "startup": false,
            "wait_interval": 0
          }
        }
      },
      "cell_type": "code",
      "source": [
        "%matplotlib inline\n",
        "from preamble import *\n",
        "plt.rcParams['savefig.dpi'] = 100 # This controls the size of your figures\n",
        "# Comment out and restart notebook if you only want the last output of each cell.\n",
        "InteractiveShell.ast_node_interactivity = \"all\"\n",
        "\n",
        "import logging\n",
        "logger = logging.getLogger()\n",
        "logger.setLevel(logging.INFO)"
      ],
      "execution_count": 0,
      "outputs": []
    },
    {
      "metadata": {
        "id": "8RvIAZG6KD_s",
        "colab_type": "text"
      },
      "cell_type": "markdown",
      "source": [
        "## Backpropagation (6 points)\n",
        "\n",
        "Figure 1 illustrates a simple neural network model.\n",
        "\n",
        "![Figure 1](images/a4_network.png)\n",
        "\n",
        "It has single input $x$, and three layers with respectively one, two, and one neurons. The activation function of the neurons is ReLU. \n",
        "\n",
        "The parameters $w_1$, $w_2$, $w_3$, $w_4$, and $w_5$ (no biases) are initialized to the following values $w_1 = 2, w_2 = 1$, $w_3 = 2$, $w_4 = 4$, and $w_5 = 1$. Implement a single update step of the gradient descent algorithm by hand. Run the update state for the data point $(x=2, y=3)$:\n",
        "\n",
        "The goal is to model the relationship between two continuous variables. The learning rate is set to $0.1$\n",
        "\n",
        "Provide the solution in the following format:\n",
        "\n",
        "- A choice for a loss function \n",
        "- Compute graph for training the neural network\n",
        "- Partial derivative expression for each of the parameters in the model\n",
        "- The update expression for each of the parameters for each of the data-points\n",
        "- The final value of all four parameters after the single step in the gradient descent algorithm\n",
        "\n",
        "The Python code for simple computational graph nodes, as seen in the tutorial session, is provided in the cell below (run the cell to load the code, and again to run the code). Extend the nodes so they can be used to implement the network described above. Implement the network with the same initial weights and the correct learning rate, and verify your hand-made calculations. Add comments to your code or provide a separate description to explain the changes you have made."
      ]
    },
    {
      "metadata": {
        "id": "pY5kkrQCKD_t",
        "colab_type": "text"
      },
      "cell_type": "markdown",
      "source": [
        "### Solution"
      ]
    },
    {
      "metadata": {
        "id": "y3Qbp5osuu9Q",
        "colab_type": "text"
      },
      "cell_type": "markdown",
      "source": [
        "**Loss function**\n",
        "\n",
        "For this problem, we have choosen the Mean Squared Error defined as follow:\n",
        "\n",
        "$$\n",
        "L = \\frac{\\left(\\hat{o} - y\\right)^2}{2}\n",
        "$$\n",
        "\n",
        "where:\n",
        "\n",
        "- $\\hat{o}$: The prediction\n",
        "\n",
        "- $y$: The true value\n",
        "\n",
        "**Compute graph**\n",
        "\n",
        "![Figure 1](https://lh3.googleusercontent.com/bTxjSuuYeaWaQNyFXoDDG3C8NaOfwPvjHHiLDSj_r4Zu5_dSmY62FfqQzf_JZowhj4-c-IbvuboziHMcRq4HeSE7Ey-1D3lK4YUj0bopLmFC2youIOXFOLGngHbKj1MB_bHPrgPrp5smrguoTNhOwCmJao24c-NtvsEhlNWv63TzJ9I50cvMxd4dozDB5qGe_fVed3E2-Ug0MOu0xyPe6-rosu0wFjeKOk5aUJ1gRTKumMDf_thYC8xEf93ei_YNxr6OGJrFHfpYpPK6qOoqeWqQO_vMMYIMVUn5GzN1iGVqpgdMmGpvRqohjhW31UpnTPfIWUPcZ10r5tk6LuCAEIjTmFnSvn0DMSOIyGS7Xk-o4B0CoU9p2T7Wi5O_UwzRd5WPgYpNrQQ4o7L8PNK9OVo5oc7-5IWr4y4EHyBjaUk72uiAV3LTefZk8iCFsK8tJ8MTdSdKMDrtOMvAVAUCvPmrTBtrBBcqEKT9A0VXEIUYWLDv2Cd8AnLk_e7wBWoBBhFvwLTKjPUxDQf9lZzoZYjXtGlp-a0EAs5pVeS2xYuqz2FT2hnlhKfjBAu-dxBRa-yNT38MtHiblzZc-ZAnornYFlddFQh0jSEbP1epj6aLFgVrT7xytnqu8LsGoGqABo78kGET5ZcPkvbdCWHAPgDniNDpyoj-fQ=w860-h395-no)\n",
        "\n",
        "\n",
        "where:\n",
        "\n",
        "$$\n",
        "o_1 = w_1 . x \\\\\n",
        "o_2 = w_2 . o_1 \\\\\n",
        "o_3 = w_3 . o_1 \\\\\n",
        "o_4 = w_4 . o_2 \\\\\n",
        "o_5 = w_5 . o_3 \\\\\n",
        "o_6 = o_4 + o_5\n",
        "$$\n",
        "\n",
        "Specifcally, for this problem our loss is defined as:\n",
        "\n",
        "$$\n",
        "L = \\frac{(o_6 - y)^2}{2}\n",
        "$$\n",
        "\n",
        "**Partial derivative expressions**\n",
        "\n",
        "First, we show the derivative expressions for loss and outputs $o_i$. Note that for $o_1$ we obtain two expressions because of the split of this output in the first multiplication node.\n",
        "\n",
        "\n",
        "$$\n",
        "\\frac{\\partial L}{\\partial L} = 1 \\\\\n",
        "\\frac{\\partial L}{\\partial o_6} = \\frac{\\partial}{\\partial o_6} \\frac{(o_6 - y)^2}{2} = o_6 - y = 24 - 3 = 21 \\\\\n",
        "\\frac{\\partial L}{\\partial o_5} = \\frac{\\partial o_6}{\\partial o_5} \\frac{\\partial L}{\\partial o_6} = \\frac{\\partial (o_4 + o_5)}{\\partial o_5} \\frac{\\partial L}{\\partial o_6} = 1  (o_6 - y ) = 1 \\cdot 21 = 21 \\\\\n",
        "\\frac{\\partial L}{\\partial o_4} = \\frac{\\partial o_6}{\\partial o_4} \\frac{\\partial L}{\\partial o_6} = \\frac{\\partial (o_4 + o_5)}{\\partial o_4} \\frac{\\partial L}{\\partial o_6} = 1 (o_6 - y ) = 1 \\cdot 21 = 21 \\\\\n",
        "\\frac{\\partial L}{\\partial o_3}\n",
        "= \\frac{\\partial o_5}{\\partial o_3} \\frac{\\partial L}{\\partial o_5}\n",
        "= \\frac{\\partial (o_3 \\cdot w_5)}{\\partial o_3} (o_6 - y )\n",
        "= w_5 \\cdot (o_6 - y ) = 1 \\cdot 21 = 21\\\\\n",
        "\\frac{\\partial L}{\\partial o_2}\n",
        "= \\frac{\\partial o_4}{\\partial o_2} \\frac{\\partial L}{\\partial o_4}\n",
        "= \\frac{\\partial (o_2 \\cdot w_4)}{\\partial o_2} (o_6 - y )\n",
        "= w_4 \\cdot (o_6 - y ) = 4\\cdot 21 = 84 \\\\\n",
        "\\frac{\\partial L}{\\partial o_1}\n",
        "= \\frac{\\partial o_2}{\\partial o_1} \\frac{\\partial L}{\\partial o_2}\n",
        "= \\frac{\\partial (w_2 \\cdot o_1)}{\\partial o_1} (o_6 - y )\n",
        "= w_2 \\cdot (o_6 - y ) = 1 \\cdot 21 = 21\\\\\n",
        "\\frac{\\partial L}{\\partial o_1}\n",
        "= \\frac{\\partial o_3}{\\partial o_1} \\frac{\\partial L}{\\partial o_3}\n",
        "= \\frac{\\partial (w_3 . o_1)}{\\partial o_1} (o_6 - y )\n",
        "= w_3 \\cdot (o_6 - y ) = 2 \\cdot 21 = 42\n",
        "$$\n",
        "\n",
        "\n",
        "On the other hand, for the weights (note that $w_1$ is now updated twice because of the split in the first multiplication node), we obtain:\n",
        "\n",
        "$$\n",
        "\\frac{\\partial L}{\\partial w_5} = \\frac{\\partial o_5}{\\partial w_5} \\frac{\\partial L}{\\partial o_5} = \\frac{\\partial (o_3 w_5)}{\\partial w_5} (o_6 - y) = o_3(o_6 - y) = 8 \\cdot 21 = 168 \\\\\n",
        "\\frac{\\partial L}{\\partial w_4} = \\frac{\\partial o_4}{\\partial w_4} \\frac{\\partial L}{\\partial o_4} = \\frac{\\partial (o_2 w_4)}{\\partial w_4} (o_6 - y) = o_2(o_6 - y) = 4 \\cdot 21 = 84 \\\\\n",
        "\\frac{\\partial L}{\\partial w_3} = \\frac{\\partial o_3}{\\partial w_3} \\frac{\\partial L}{\\partial o_3} = \\frac{\\partial (o_1 w_3)}{\\partial w_3} w_5 (o_6 - y) = o_1 \\cdot w_5 (o_6 - y) = 4 \\cdot 1 \\cdot 21 = 84 \\\\\n",
        "\\frac{\\partial L}{\\partial w_2} = \\frac{\\partial o_2}{\\partial w_2} \\frac{\\partial L}{\\partial o_2} = \\frac{\\partial (o_1 w_2)}{\\partial w_2} w_4(o_6 - y) = o_1 \\cdot w_4(o_6 - y) = 4 \\cdot 4 \\cdot 21 = 336 \\\\\n",
        "\\frac{\\partial L}{\\partial w_1} = \\frac{\\partial o_1}{\\partial w_1} \\frac{\\partial L}{\\partial o_1} = \\frac{\\partial (x w_1)}{\\partial w_1}  w_2 (o_6 - y) = x \\cdot w_2 (o_6 - y) = 2 \\cdot 21 = 42 \\\\\n",
        "\\frac{\\partial L}{\\partial w_1} = \\frac{\\partial o_1}{\\partial w_1} \\frac{\\partial L}{\\partial o_1} = \\frac{\\partial (x w_1)}{\\partial w_1}  w_3 (o_6 - y) = x \\cdot w_3 (o_6 - y) = = 2 \\cdot 42 = 84\n",
        "$$\n",
        "\n",
        "**Update expressions**\n",
        "\n",
        "The learning rule is defined as:\n",
        "\n",
        "$$\n",
        "w = w - \\alpha \\frac{\\partial L}{\\partial w} \n",
        "$$\n",
        "\n",
        "For our weights, the results are:\n",
        "\n",
        "$$\n",
        "w_5 = w_5 - \\alpha \\frac{\\partial L}{\\partial w_5} = w_5 - \\alpha \\cdot o_3(o_6 - y) \\\\\n",
        "w_4 = w_4 - \\alpha \\frac{\\partial L}{\\partial w_4} = w_4 - \\alpha \\cdot o_2(o_6 - y) \\\\\n",
        "w_3 = w_3 - \\alpha \\frac{\\partial L}{\\partial w_3} = w_3 - \\alpha \\cdot o_1 \\cdot w_5(o_6 - y) \\\\\n",
        "w_2 = w_2 - \\alpha \\frac{\\partial L}{\\partial w_2} = w_2 - \\alpha \\cdot o_1 \\cdot w_4(o_6 - y) \\\\\n",
        "w_1' = w_1 - \\alpha \\frac{\\partial L}{\\partial w_1} = w_1 - \\alpha \\cdot x \\cdot w_2(o_6 - y) \\\\\n",
        "w_1 = w_1' - \\alpha \\frac{\\partial L}{\\partial w_1} = w_1' - \\alpha \\cdot x \\cdot w_3(o_6 - y)\n",
        "$$\n",
        "\n",
        "**Final value for all parameters**\n",
        "\n",
        "The final values of our paremeters (weights) are:\n",
        "\n",
        "- $w_5 = 1 - (0.1)(168) = - 15.8$\n",
        "- $w_4 = 4 - (0.1)(84) = -4.4$\n",
        "- $w_3 = 2 - (0.1)(84) = -6.4$\n",
        "- $w_2 = 1 - (0.1)(336) = -32.6$\n",
        "- $w_1' = 2 - (0.1)(84) = -6.4$\n",
        "- $w_1 = -6.4 - (0.1)(168) = -23.2$\n",
        "\n",
        "Our initial loss is $L = 220.5$\n",
        "\n",
        "And our final loss is $L = 4.5$\n"
      ]
    },
    {
      "metadata": {
        "id": "46evxwvv8CbC",
        "colab_type": "text"
      },
      "cell_type": "markdown",
      "source": [
        "#### Code explanation\n",
        "\n",
        "To ease the analysis of solution, we have removed the unused code from the original version. The code itself contains the comments to understand the modifications performed.\n",
        "\n"
      ]
    },
    {
      "metadata": {
        "id": "FVczYK9eKD_t",
        "colab_type": "code",
        "colab": {
          "autoexec": {
            "startup": false,
            "wait_interval": 0
          },
          "base_uri": "https://localhost:8080/",
          "height": 54
        },
        "outputId": "c992aac6-8cc8-4f1c-9559-6d9966603949",
        "executionInfo": {
          "status": "ok",
          "timestamp": 1523226107170,
          "user_tz": -120,
          "elapsed": 1047,
          "user": {
            "displayName": "Jorge Gómez",
            "photoUrl": "//lh5.googleusercontent.com/-OHXqZEKFiwY/AAAAAAAAAAI/AAAAAAAAG1Q/EYd5cagCTIo/s50-c-k-no/photo.jpg",
            "userId": "108155755194959101108"
          }
        }
      },
      "cell_type": "code",
      "source": [
        "# %load basic_graph.py\n",
        "'''\n",
        "Implementations of nodes for a computation graph. Each node\n",
        "has a forward pass and a backward pass function, allowing\n",
        "for the evaluation and backpropagation of data.\n",
        "'''\n",
        "\n",
        "from abc import ABC, abstractmethod\n",
        "import math\n",
        "import time\n",
        "\n",
        "# We still preserve the abstract class Node \n",
        "class Node(object):\n",
        "\n",
        "    def __init__(self, inputs):\n",
        "        self.inputs = inputs\n",
        "\n",
        "    @abstractmethod\n",
        "    def forward(self):\n",
        "        ''' Feed-forward the result '''\n",
        "        raise NotImplementedError(\"Missing forward-propagation method.\")\n",
        "\n",
        "    @abstractmethod\n",
        "    def backward(self, d):\n",
        "        ''' Back-propagate the error\n",
        "            d is the delta of the subsequent node in the network '''\n",
        "        raise NotImplementedError(\"Missing back-propagation method.\")\n",
        "\n",
        "# ConstantNode is never affected. Its initial value is always preserved. Hence,\n",
        "# forward is just the replication of the value and backward does nothing, which\n",
        "# can be interpreted as the end of the backpropagation.\n",
        "# This node is used to represent the input x and the target y.\n",
        "class ConstantNode(Node):\n",
        "\n",
        "    def __init__(self, value):\n",
        "        self.output = value\n",
        "\n",
        "    def forward(self):\n",
        "        logging.debug(\"[ConstantNode] Fordwarding value = {}\".format(self.output))\n",
        "        return self.output\n",
        "\n",
        "    # Input never changes\n",
        "    def backward(self, d):\n",
        "        logging.debug(\"[ConstantNode] Nothing to backward. Value: {}\".format(\n",
        "            self.output))\n",
        "        pass\n",
        "\n",
        "# VariableNode is a value that can modify its value. For forward(), we only\n",
        "# replicate the output. For backward() we apply the learning rule with the\n",
        "# requested learning_rate. This is 1 of the ending nodes of the backpropagation\n",
        "class VariableNode(Node):\n",
        "\n",
        "    def __init__(self, value):\n",
        "        self.output = value\n",
        "\n",
        "    def forward(self):\n",
        "        logging.debug(\"[VariableNode] Fordwarding value = {}\".format(self.output))\n",
        "        return self.output\n",
        "\n",
        "    # Update the variable node according the learning rule\n",
        "    def backward(self, d, learning_rate = 0.1):\n",
        "        logging.debug(\"[VariableNode] Updated weight from {} to {}\".format(\n",
        "            self.output, self.output - learning_rate * d))\n",
        "        self.output -= learning_rate * d # Gradient Descent\n",
        "\n",
        "\n",
        "# Recall that Node has \"inputs\". AdditionNode just sums the forward values \n",
        "# of each input. For backward() it just backwards the parent nodes.\n",
        "class AdditionNode(Node):\n",
        "\n",
        "    def forward(self):\n",
        "        self.output = sum([i.forward() for i in self.inputs])\n",
        "        logging.debug(\"[AdditionNode] Fordwarding value = {}\".format(self.output))\n",
        "        return self.output\n",
        "\n",
        "    def backward(self, d):\n",
        "        # Go backwards for each neuron connected (they should be mult.)\n",
        "        for i in self.inputs:\n",
        "            logging.debug(\"[AdditionNode] Backwarding parent node of class {} with value {} \".format(type(i), i.output))\n",
        "            i.backward(d)\n",
        "\n",
        "# Recall that Node has \"inputs\". MultiplicationNode just multiplies\n",
        "# two forwarded inputs. For backpropagation, the gradient is d * x\n",
        "class MultiplicationNode(Node):\n",
        "\n",
        "    def forward(self):\n",
        "        self.output = self.inputs[0].forward() * self.inputs[1].forward()\n",
        "        logging.debug(\"[MultiplicationNode] Fordwarding value = {}\".format(self.output))\n",
        "        return self.output\n",
        "\n",
        "    def backward(self, d):\n",
        "          # Backwards to xi and wi, which are constant and variable, respectively\n",
        "          logging.debug(\"[MultiplicationNode] Backwarding parent node with value {}\".format(self.inputs[0].output))\n",
        "          self.inputs[0].backward(d * self.inputs[1].output)\n",
        "          logging.debug(\"[MultiplicationNode] Backwarding parent node with value {}\".format(self.inputs[1].output))\n",
        "          self.inputs[1].backward(d * self.inputs[0].output) \n",
        "\n",
        "# This is the MeanSquaredError node. It assumes that the second input is\n",
        "# the correct value. The first input is the prediction. Forward is the MSE error\n",
        "# presented in the formulas and backward is the gradient as presented in the\n",
        "# formulas\n",
        "class MSENode(Node):\n",
        "\n",
        "    def forward(self):\n",
        "        self.output = 0.5 * (\n",
        "            self.inputs[0].forward() - self.inputs[1].forward())**2\n",
        "        logging.debug(\"[MSENode] Fordwarding value = {}\".format(self.output))\n",
        "        return self.output\n",
        "\n",
        "    def backward(self, d):\n",
        "          # Prediction\n",
        "          logging.debug(\"[MSENode] Backwarding prediction node with value {}\".format(self.inputs[0].output))\n",
        "          self.inputs[0].backward(d * (self.inputs[0].output - self.inputs[1].output))\n",
        "          # Real target\n",
        "          logging.debug(\"[MSENode] Backwarding target node with value {}\".format(self.inputs[1].output))\n",
        "          self.inputs[1].backward(d * (self.inputs[1].output - self.inputs[0].output))\n",
        "    \n",
        "\n",
        "# Relu function.\n",
        "# Forward is defined as max(0, x). Backward is given by the next equations:\n",
        "# f'(x) = 0 if x <=0 ; f'(x) = 1 if x > 0\n",
        "class ReLUNode(Node):\n",
        "\n",
        "    def forward(self):\n",
        "        self.output = max(0, self.inputs[0].forward())\n",
        "        logging.debug(\"[ReLUNode] Fordwarding value = {}\".format(self.output))\n",
        "        return self.output\n",
        "\n",
        "    def backward(self, d):\n",
        "        logging.debug(\"[ReLUNode] Backwarding parent node with value {}\".format(self.inputs[0].output))\n",
        "        argument = 1 if self.output > 0 else 0\n",
        "        self.inputs[0].backward(d * argument)\n",
        "\n",
        "# The neuron has no significant changes\n",
        "class Neuron(Node):\n",
        "\n",
        "    def __init__(self, inputs, weights, activation):\n",
        "        ''' weights: list of initial weights, same length as inputs '''\n",
        "        self.inputs = inputs # Inputs are nodes also. Can be constant, variable, etc\n",
        "\n",
        "        # Initialize a weight for each input\n",
        "        self.weights = [VariableNode(weight) for weight in weights]\n",
        "\n",
        "        # Multiplication node for each pair of inputs and weights\n",
        "        mults = [MultiplicationNode([i, w]) for i, w, in zip(self.inputs, self.weights)]\n",
        "\n",
        "        # Sum all multiplication results\n",
        "        added = AdditionNode(mults)\n",
        "\n",
        "        # Apply activation function\n",
        "        if activation.lower() == 'sigmoid':\n",
        "            self.graph = SigmoidNode([added])\n",
        "        elif activation.lower() == 'relu':\n",
        "            self.graph = ReLUNode([added])\n",
        "        elif activation.lower() == 'tanh':\n",
        "            self.graph = TanhNode([added])\n",
        "        else:\n",
        "            raise ValueError(\"Unknown activation function.\")\n",
        "\n",
        "    def forward(self):\n",
        "        # Evaluates the activation function\n",
        "        self.output = self.graph.forward()\n",
        "        logging.debug(\"[Neuron] Fordwarding value = {}\".format(self.output))\n",
        "        return self.output\n",
        "\n",
        "    def backward(self, d):\n",
        "        logging.debug(\"[Neuron] Backwarding with d = {}\".format(d))\n",
        "        # Go back from the activation function\n",
        "        self.graph.backward(d)\n",
        "\n",
        "    def get_weights(self):\n",
        "        return [weight.output for weight in self.weights]\n",
        "\n",
        "if __name__ == '__main__':\n",
        "    print(\"Loaded simple graph nodes\")\n",
        "    "
      ],
      "execution_count": 8,
      "outputs": [
        {
          "output_type": "execute_result",
          "data": {
            "text/plain": [
              "'\\nImplementations of nodes for a computation graph. Each node\\nhas a forward pass and a backward pass function, allowing\\nfor the evaluation and backpropagation of data.\\n'"
            ]
          },
          "metadata": {
            "tags": []
          },
          "execution_count": 8
        },
        {
          "output_type": "stream",
          "text": [
            "Loaded simple graph nodes\n"
          ],
          "name": "stdout"
        }
      ]
    },
    {
      "metadata": {
        "id": "Mn-lvP2TKD_z",
        "colab_type": "code",
        "colab": {
          "autoexec": {
            "startup": false,
            "wait_interval": 0
          }
        }
      },
      "cell_type": "code",
      "source": [
        "################################################################################\n",
        "## The input layer contains only constant nodes, this is, the x variables. We ##\n",
        "## implement the backward of each node, but since the backward of constant is ##\n",
        "## skipped, it does not affect. ################################################\n",
        "################################################################################\n",
        "class InputLayer(Node):\n",
        "    \n",
        "    def __init__(self, x, name = None):\n",
        "        self.nodes = [ConstantNode(xi) for xi in x]\n",
        "        self.name = name\n",
        "        \n",
        "    def forward(self):\n",
        "        pass # No need to compute forward of constant nodes\n",
        "    \n",
        "    def backward(self, i):\n",
        "          for node in self.nodes:\n",
        "              node.backward(None)\n",
        "\n",
        "    def summary(self):\n",
        "        print(\"Input Layer '{}' with {} inputs\".format(self.name, len(self.nodes)))\n",
        "        for i in range(len(self.nodes)):\n",
        "            print(\"\\tx{}: {}\".format(i, self.nodes[i].output))\n",
        "\n",
        "\n",
        "################################################################################\n",
        "## The hidden layer receives an input layer or another hidden layer, then we  ##\n",
        "## have to handle both cases. If it is an input layer, then we call the nodes ##\n",
        "## otherwise, we call the neurons. This could be also be fixed by calling the ##\n",
        "## neurons nodes, but we prefer making the distinction for clarity.           ##\n",
        "## Additionally, for forward we just forward the values of the neurons. For   ##\n",
        "## backward() we do nothing since everything should be backpropagated from    ##\n",
        "## the output layer. ###########################################################\n",
        "################################################################################\n",
        "class HiddenLayer(Node):\n",
        "    \n",
        "    def __init__(self, parentLayer, num_neurons, weights = None, activation ='sigmoid', name = None):\n",
        "        \n",
        "        # Random weights if we do not specify\n",
        "        if weights == None:\n",
        "            weights = []\n",
        "            for c in range(len(num_neurons)):\n",
        "                weights.add(np.random.uniform(0,5, len(inputLayer.nodes)))\n",
        "            \n",
        "        # If an InputLayer, my inputs are the parentLayer.nodes\n",
        "        if isinstance(parentLayer, InputLayer): \n",
        "            self.neurons = [Neuron(parentLayer.nodes, weights = weights[i], activation = activation)\n",
        "                for i in range(num_neurons)] # As many identical neurons as requested\n",
        "        \n",
        "        # If another HiddenLayer, then my inputs are the neurons\n",
        "        if isinstance(parentLayer, HiddenLayer):\n",
        "            self.neurons = [Neuron(parentLayer.neurons, weights = weights[i], activation = activation)\n",
        "                for i in range(num_neurons)] # As many identical neurons as requested\n",
        "\n",
        "        self.name = name\n",
        "        \n",
        "    def forward(self):\n",
        "        for neuron in self.neurons:\n",
        "            neuron.forward()\n",
        "\n",
        "    def backward(self, i):\n",
        "        pass\n",
        "\n",
        "    def summary(self):\n",
        "        print(\"Hidden Layer '{}' with {} neuron(s)\".format(self.name, len(self.neurons)))\n",
        "        for i in range(len(self.neurons)):\n",
        "            print(\"\\tn{} with input weights : {}\".format(i, self.neurons[i].get_weights()))\n",
        "    \n",
        "\n",
        "################################################################################\n",
        "## The output layer receives a hidden layer for us, but we could receive also ##\n",
        "## an input layer, hence we make the distinction again for clarity.           ##\n",
        "## The output layer has only the MSE node. Even if have a for loop, in our    ##\n",
        "## problem we only have one MSE node. Forwarding and backwarding is just the  ##\n",
        "## backward of the activation function which will trigger the other values.   ##\n",
        "################################################################################\n",
        "class OutputLayer(Node):\n",
        "    \n",
        "    # TODO: is it realy just one target?\n",
        "    def __init__(self, parentLayer, target, activation = 'mse', name = None):\n",
        "        self.name = name\n",
        "        \n",
        "        if isinstance(parentLayer, HiddenLayer): \n",
        "            self.nodes = [] # MSE nodes\n",
        "            for neuron in parentLayer.neurons:\n",
        "                self.nodes.append(MSENode([neuron, ConstantNode(target)]))\n",
        "            self.graph = AdditionNode(self.nodes)\n",
        "\n",
        "    def forward(self):\n",
        "        self.output = self.graph.forward()\n",
        "        return self.output\n",
        "\n",
        "    def backward(self, i):\n",
        "        self.graph.backward(i)\n",
        "\n",
        "    def summary(self):\n",
        "        print(\"Output Layer '{}' (MSE) with {} neuron(s)\".format(self.name, len(self.nodes)))\n",
        "        for i in range(len(self.nodes)):\n",
        "            print(\"\\tExpected value for n{} : {}\".format(i, self.nodes[i].inputs[1].output))\n"
      ],
      "execution_count": 0,
      "outputs": []
    },
    {
      "metadata": {
        "id": "NZbopUECKD_1",
        "colab_type": "code",
        "colab": {
          "autoexec": {
            "startup": false,
            "wait_interval": 0
          },
          "base_uri": "https://localhost:8080/",
          "height": 527
        },
        "outputId": "4905bc89-b4eb-476e-ff11-502509fcfd81",
        "executionInfo": {
          "status": "ok",
          "timestamp": 1523226129463,
          "user_tz": -120,
          "elapsed": 1885,
          "user": {
            "displayName": "Jorge Gómez",
            "photoUrl": "//lh5.googleusercontent.com/-OHXqZEKFiwY/AAAAAAAAAAI/AAAAAAAAG1Q/EYd5cagCTIo/s50-c-k-no/photo.jpg",
            "userId": "108155755194959101108"
          }
        }
      },
      "cell_type": "code",
      "source": [
        "################################################################################\n",
        "## Final model. This can be also understood as the compute graph. It is a set ##\n",
        "## of layers, starting from the input layer. neural_network has the final     ##\n",
        "## graph and then we forward from it to recursively obtain the answers. We    ##\n",
        "## print the result and then we backpropagate. We show the final weights and  ##\n",
        "## finally we print the new MSE. One can observe that we reduced the error    ##\n",
        "## significantly with just one passing, but obtained negative weights.        ##\n",
        "################################################################################\n",
        "\n",
        "inputLayer = InputLayer(x = [2], name = \"Input\")\n",
        "inputLayer.summary()\n",
        "\n",
        "# # First hidden layer\n",
        "hL1 = HiddenLayer(parentLayer = inputLayer, num_neurons = 1, weights = [[2]], activation = \"relu\", name = \"HL1\")\n",
        "hL1.summary()\n",
        "\n",
        "hL2 = HiddenLayer(parentLayer = hL1, num_neurons = 2, weights = [[1], [2]], activation = \"relu\", name = \"HL2\")\n",
        "hL2.summary()\n",
        "\n",
        "hL3 = HiddenLayer(parentLayer = hL2, num_neurons = 1, weights = [[4, 1]], activation = \"relu\", name = \"HL3\")\n",
        "hL3.summary()\n",
        "\n",
        "neural_network = OutputLayer(parentLayer = hL3, target = 3, activation = \"mse\", name = \"Output\")\n",
        "neural_network.summary()\n",
        "\n",
        "res = neural_network.forward()\n",
        "\n",
        "print(\"\\nLoss: {}\".format(res))\n",
        "\n",
        "print(\"\\nBack-propagating...\")\n",
        "neural_network.backward(1.0)\n",
        "\n",
        "print(\"Showing layers after back-propagation...\\n\")\n",
        "inputLayer.summary()\n",
        "hL1.summary()\n",
        "hL2.summary()\n",
        "hL3.summary()\n",
        "neural_network.summary()\n",
        "\n",
        "res = neural_network.forward()\n",
        "print(\"\\nLoss : {}\".format(res))"
      ],
      "execution_count": 10,
      "outputs": [
        {
          "output_type": "stream",
          "text": [
            "Input Layer 'Input' with 1 inputs\n",
            "\tx0: 2\n",
            "Hidden Layer 'HL1' with 1 neuron(s)\n",
            "\tn0 with input weights : [2]\n",
            "Hidden Layer 'HL2' with 2 neuron(s)\n",
            "\tn0 with input weights : [1]\n",
            "\tn1 with input weights : [2]\n",
            "Hidden Layer 'HL3' with 1 neuron(s)\n",
            "\tn0 with input weights : [4, 1]\n",
            "Output Layer 'Output' (MSE) with 1 neuron(s)\n",
            "\tExpected value for n0 : 3\n",
            "\n",
            "Loss: 220.5\n",
            "\n",
            "Back-propagating...\n",
            "Showing layers after back-propagation...\n",
            "\n",
            "Input Layer 'Input' with 1 inputs\n",
            "\tx0: 2\n",
            "Hidden Layer 'HL1' with 1 neuron(s)\n",
            "\tn0 with input weights : [-23.200000000000003]\n",
            "Hidden Layer 'HL2' with 2 neuron(s)\n",
            "\tn0 with input weights : [-32.6]\n",
            "\tn1 with input weights : [-6.4]\n",
            "Hidden Layer 'HL3' with 1 neuron(s)\n",
            "\tn0 with input weights : [-4.4, -15.8]\n",
            "Output Layer 'Output' (MSE) with 1 neuron(s)\n",
            "\tExpected value for n0 : 3\n",
            "\n",
            "Loss : 4.5\n"
          ],
          "name": "stdout"
        }
      ]
    },
    {
      "metadata": {
        "id": "WtWXWzL8KD_5",
        "colab_type": "text"
      },
      "cell_type": "markdown",
      "source": [
        "## Training Deep Models (3 points)\n",
        "\n",
        "The model in the example code below performs poorly as its depth increases. Train this model on the MNIST digit detection task. \n",
        "\n",
        "Examine its training performance by gradually increasing its depth:\n",
        "- Set the depth to 1 hidden layer\n",
        "- Set the depth to 2 hidden layers\n",
        "- Set the depth to 3 hidden layers\n",
        "\n",
        "Modify the model such that you improve its performance when its depth increases. Train the new model again for the different depths:\n",
        "- Set the depth to 1 hidden layer\n",
        "- Set the depth to 2 hidden layers\n",
        "- Set the depth to 3 hidden layers\n",
        "\n",
        "Submit an explanation for the limitation of the original model. Explain your modification. \n",
        "Submit your code and 6 plots (can be overlaid) for the training performance of both models with different depths. \n",
        "\n"
      ]
    },
    {
      "metadata": {
        "id": "pl05iNzwKD_5",
        "colab_type": "code",
        "colab": {
          "autoexec": {
            "startup": false,
            "wait_interval": 0
          },
          "base_uri": "https://localhost:8080/",
          "height": 34
        },
        "outputId": "6aec17c6-502f-49f5-89e2-d35ec1768442",
        "executionInfo": {
          "status": "ok",
          "timestamp": 1523460767742,
          "user_tz": -120,
          "elapsed": 7845,
          "user": {
            "displayName": "Jorge Gómez",
            "photoUrl": "//lh5.googleusercontent.com/-OHXqZEKFiwY/AAAAAAAAAAI/AAAAAAAAG1Q/EYd5cagCTIo/s50-c-k-no/photo.jpg",
            "userId": "108155755194959101108"
          }
        }
      },
      "cell_type": "code",
      "source": [
        "# (You don't need to change this part of the code)\n",
        "from __future__ import print_function\n",
        "import numpy as np\n",
        "np.random.seed(1234)\n",
        "\n",
        "from keras.datasets import mnist\n",
        "from keras.models import Sequential\n",
        "from keras.layers.core import Dense, Dropout, Activation\n",
        "from keras.optimizers import SGD\n",
        "from keras.utils import np_utils\n",
        "import matplotlib.pyplot as plt\n",
        "\n",
        "batch_size = 128\n",
        "nb_classes = 10\n",
        "nb_epoch = 10"
      ],
      "execution_count": 1,
      "outputs": [
        {
          "output_type": "stream",
          "text": [
            "Using TensorFlow backend.\n"
          ],
          "name": "stderr"
        }
      ]
    },
    {
      "metadata": {
        "id": "zcfCO79LKD_8",
        "colab_type": "code",
        "colab": {
          "autoexec": {
            "startup": false,
            "wait_interval": 0
          },
          "base_uri": "https://localhost:8080/",
          "height": 85
        },
        "outputId": "3480df74-ef6e-437c-c110-3526dd34c7ca",
        "executionInfo": {
          "status": "ok",
          "timestamp": 1523460770991,
          "user_tz": -120,
          "elapsed": 1567,
          "user": {
            "displayName": "Jorge Gómez",
            "photoUrl": "//lh5.googleusercontent.com/-OHXqZEKFiwY/AAAAAAAAAAI/AAAAAAAAG1Q/EYd5cagCTIo/s50-c-k-no/photo.jpg",
            "userId": "108155755194959101108"
          }
        }
      },
      "cell_type": "code",
      "source": [
        "# (You don't need to change this part of the code)\n",
        "# the data, shuffled and split between train and test sets\n",
        "(X_train, y_train), (X_test, y_test) = mnist.load_data()\n",
        "\n",
        "X_train = X_train.reshape(60000, 784)\n",
        "X_test = X_test.reshape(10000, 784)\n",
        "\n",
        "X_train = X_train.astype('float32')\n",
        "X_test = X_test.astype('float32')\n",
        "X_train /= 255\n",
        "X_test /= 255\n",
        "print(X_train.shape[0], 'train samples')\n",
        "print(X_test.shape[0], 'test samples')\n",
        "\n",
        "# convert class vectors to binary class matrices\n",
        "Y_train = np_utils.to_categorical(y_train, nb_classes)\n",
        "Y_test = np_utils.to_categorical(y_test, nb_classes)"
      ],
      "execution_count": 2,
      "outputs": [
        {
          "output_type": "stream",
          "text": [
            "Downloading data from https://s3.amazonaws.com/img-datasets/mnist.npz\n",
            "11493376/11490434 [==============================] - 1s 0us/step\n",
            "60000 train samples\n",
            "10000 test samples\n"
          ],
          "name": "stdout"
        }
      ]
    },
    {
      "metadata": {
        "id": "wOi_mvTVy7b1",
        "colab_type": "text"
      },
      "cell_type": "markdown",
      "source": [
        "Here we run all 3 possible models with the original parameters. For ease we show all 3 possible model accuracies overlaid. "
      ]
    },
    {
      "metadata": {
        "id": "SmEFncbWeFox",
        "colab_type": "code",
        "colab": {
          "autoexec": {
            "startup": false,
            "wait_interval": 0
          },
          "base_uri": "https://localhost:8080/",
          "height": 2861
        },
        "outputId": "3a5ca580-8ece-494b-8dd8-7f63ef0af99a",
        "executionInfo": {
          "status": "ok",
          "timestamp": 1523460990022,
          "user_tz": -120,
          "elapsed": 100329,
          "user": {
            "displayName": "Jorge Gómez",
            "photoUrl": "//lh5.googleusercontent.com/-OHXqZEKFiwY/AAAAAAAAAAI/AAAAAAAAG1Q/EYd5cagCTIo/s50-c-k-no/photo.jpg",
            "userId": "108155755194959101108"
          }
        }
      },
      "cell_type": "code",
      "source": [
        "#------------------------ Original Models-----------------------\n",
        "trainlegend = ['train1','train2','train3']\n",
        "testlegend = ['test1','test2','test3']\n",
        "myColors = ['r', 'g', 'b', 'y']\n",
        "plt.figure(figsize = (10, 8))\n",
        "for i in range(3):\n",
        "  model = Sequential()\n",
        "  model.add(Dense(512, input_shape=(784,), activation='sigmoid'))\n",
        "  model.add(Dropout(0.2))\n",
        "  number_hidden_layers=i\n",
        "  while number_hidden_layers >= 1:\n",
        "      model.add(Dense(512))\n",
        "      model.add(Activation('sigmoid'))\n",
        "      model.add(Dropout(0.2))\n",
        "      number_hidden_layers -= 1\n",
        "  number_hidden_layers = number_hidden_layers+1\n",
        "  model.add(Dense(10))\n",
        "  model.add(Activation('softmax'))\n",
        "\n",
        "  model.summary()\n",
        "\n",
        "  model.compile(loss='categorical_crossentropy',\n",
        "                optimizer=SGD(),\n",
        "                metrics=['accuracy'])\n",
        "  history = model.fit(X_train, Y_train,\n",
        "                    batch_size=batch_size, nb_epoch=nb_epoch,\n",
        "                    verbose=1, validation_data=(X_test, Y_test))\n",
        "  score = model.evaluate(X_test, Y_test, verbose=0)\n",
        "  print('Test score:', score[0])\n",
        "  print('Test accuracy:', score[1])\n",
        "  # list all data in history\n",
        "  print(history.history.keys())\n",
        "  # summarize history for accuracy\n",
        "  plt.plot(history.history['acc'], c = myColors[i], label = \"Train \" + str(i)) #change style and color\n",
        "  plt.plot(history.history['val_acc'], c = myColors[i], label = \"Test\" + str(i), linestyle = \"--\")\n",
        "  plt.title('model accuracy')\n",
        "  plt.ylabel('accuracy')\n",
        "  plt.xlabel('epoch')\n",
        "  #plt.legend([trainlegend[i], testlegend[i]], loc='upper left')\n",
        "plt.legend()\n",
        "#plt.gca().set_color_cycle(['red', 'green', 'blue', 'yellow'])\n",
        "plt.show()\n",
        "  "
      ],
      "execution_count": 4,
      "outputs": [
        {
          "output_type": "stream",
          "text": [
            "_________________________________________________________________\n",
            "Layer (type)                 Output Shape              Param #   \n",
            "=================================================================\n",
            "dense_10 (Dense)             (None, 512)               401920    \n",
            "_________________________________________________________________\n",
            "dropout_7 (Dropout)          (None, 512)               0         \n",
            "_________________________________________________________________\n",
            "dense_11 (Dense)             (None, 10)                5130      \n",
            "_________________________________________________________________\n",
            "activation_7 (Activation)    (None, 10)                0         \n",
            "=================================================================\n",
            "Total params: 407,050\n",
            "Trainable params: 407,050\n",
            "Non-trainable params: 0\n",
            "_________________________________________________________________\n"
          ],
          "name": "stdout"
        },
        {
          "output_type": "stream",
          "text": [
            "/usr/local/lib/python3.6/dist-packages/keras/models.py:942: UserWarning: The `nb_epoch` argument in `fit` has been renamed `epochs`.\n",
            "  warnings.warn('The `nb_epoch` argument in `fit` '\n"
          ],
          "name": "stderr"
        },
        {
          "output_type": "stream",
          "text": [
            "Train on 60000 samples, validate on 10000 samples\n",
            "Epoch 1/10\n",
            "60000/60000 [==============================] - 3s 44us/step - loss: 2.0278 - acc: 0.3393 - val_loss: 1.6435 - val_acc: 0.7408\n",
            "Epoch 2/10\n",
            "60000/60000 [==============================] - 3s 47us/step - loss: 1.4812 - acc: 0.6264 - val_loss: 1.1954 - val_acc: 0.8072\n",
            "Epoch 3/10\n",
            "60000/60000 [==============================] - 3s 47us/step - loss: 1.1348 - acc: 0.7234 - val_loss: 0.9244 - val_acc: 0.8332\n",
            "Epoch 4/10\n",
            "60000/60000 [==============================] - 3s 47us/step - loss: 0.9259 - acc: 0.7673 - val_loss: 0.7665 - val_acc: 0.8470\n",
            "Epoch 5/10\n",
            "48896/60000 [=======================>......] - ETA: 0s - loss: 0.8061 - acc: 0.7916"
          ],
          "name": "stdout"
        },
        {
          "output_type": "stream",
          "text": [
            "60000/60000 [==============================] - 3s 46us/step - loss: 0.7981 - acc: 0.7915 - val_loss: 0.6666 - val_acc: 0.8532\n",
            "Epoch 6/10\n",
            "60000/60000 [==============================] - 3s 46us/step - loss: 0.7176 - acc: 0.8092 - val_loss: 0.6002 - val_acc: 0.8653\n",
            "Epoch 7/10\n",
            "60000/60000 [==============================] - 3s 47us/step - loss: 0.6592 - acc: 0.8207 - val_loss: 0.5517 - val_acc: 0.8715\n",
            "Epoch 8/10\n",
            "60000/60000 [==============================] - 3s 47us/step - loss: 0.6117 - acc: 0.8323 - val_loss: 0.5160 - val_acc: 0.8739\n",
            "Epoch 9/10\n",
            "60000/60000 [==============================] - 3s 47us/step - loss: 0.5821 - acc: 0.8369 - val_loss: 0.4885 - val_acc: 0.8784\n",
            "Epoch 10/10\n",
            "17408/60000 [=======>......................] - ETA: 1s - loss: 0.5671 - acc: 0.8398"
          ],
          "name": "stdout"
        },
        {
          "output_type": "stream",
          "text": [
            "60000/60000 [==============================] - 3s 46us/step - loss: 0.5553 - acc: 0.8428 - val_loss: 0.4666 - val_acc: 0.8818\n",
            "Test score: 0.46660534963607786\n",
            "Test accuracy: 0.8818\n",
            "dict_keys(['val_loss', 'val_acc', 'loss', 'acc'])\n",
            "_________________________________________________________________\n",
            "Layer (type)                 Output Shape              Param #   \n",
            "=================================================================\n",
            "dense_12 (Dense)             (None, 512)               401920    \n",
            "_________________________________________________________________\n",
            "dropout_8 (Dropout)          (None, 512)               0         \n",
            "_________________________________________________________________\n",
            "dense_13 (Dense)             (None, 512)               262656    \n",
            "_________________________________________________________________\n",
            "activation_8 (Activation)    (None, 512)               0         \n",
            "_________________________________________________________________\n",
            "dropout_9 (Dropout)          (None, 512)               0         \n",
            "_________________________________________________________________\n",
            "dense_14 (Dense)             (None, 10)                5130      \n",
            "_________________________________________________________________\n",
            "activation_9 (Activation)    (None, 10)                0         \n",
            "=================================================================\n",
            "Total params: 669,706\n",
            "Trainable params: 669,706\n",
            "Non-trainable params: 0\n",
            "_________________________________________________________________\n",
            "Train on 60000 samples, validate on 10000 samples\n",
            "Epoch 1/10\n",
            "57856/60000 [===========================>..] - ETA: 0s - loss: 2.3321 - acc: 0.1193"
          ],
          "name": "stdout"
        },
        {
          "output_type": "stream",
          "text": [
            "60000/60000 [==============================] - 3s 58us/step - loss: 2.3304 - acc: 0.1203 - val_loss: 2.2318 - val_acc: 0.2801\n",
            "Epoch 2/10\n",
            "60000/60000 [==============================] - 3s 55us/step - loss: 2.2487 - acc: 0.1684 - val_loss: 2.1447 - val_acc: 0.5262\n",
            "Epoch 3/10\n",
            "60000/60000 [==============================] - 3s 54us/step - loss: 2.1533 - acc: 0.2452 - val_loss: 2.0311 - val_acc: 0.6075\n",
            "Epoch 4/10\n",
            "60000/60000 [==============================] - 3s 54us/step - loss: 2.0268 - acc: 0.3362 - val_loss: 1.8739 - val_acc: 0.6258\n",
            "Epoch 5/10\n",
            "59648/60000 [============================>.] - ETA: 0s - loss: 1.8527 - acc: 0.4294"
          ],
          "name": "stdout"
        },
        {
          "output_type": "stream",
          "text": [
            "60000/60000 [==============================] - 3s 54us/step - loss: 1.8521 - acc: 0.4297 - val_loss: 1.6636 - val_acc: 0.6888\n",
            "Epoch 6/10\n",
            "60000/60000 [==============================] - 3s 53us/step - loss: 1.6426 - acc: 0.5089 - val_loss: 1.4361 - val_acc: 0.7007\n",
            "Epoch 7/10\n",
            "60000/60000 [==============================] - 3s 52us/step - loss: 1.4364 - acc: 0.5732 - val_loss: 1.2320 - val_acc: 0.7693\n",
            "Epoch 8/10\n",
            "60000/60000 [==============================] - 3s 54us/step - loss: 1.2568 - acc: 0.6248 - val_loss: 1.0677 - val_acc: 0.7790\n",
            "Epoch 9/10\n",
            "60000/60000 [==============================] - 3s 53us/step - loss: 1.1196 - acc: 0.6605 - val_loss: 0.9460 - val_acc: 0.7879\n"
          ],
          "name": "stdout"
        },
        {
          "output_type": "stream",
          "text": [
            "Epoch 10/10\n",
            "60000/60000 [==============================] - 3s 53us/step - loss: 1.0140 - acc: 0.6918 - val_loss: 0.8538 - val_acc: 0.7968\n",
            "Test score: 0.8538445023536683\n",
            "Test accuracy: 0.7968\n",
            "dict_keys(['val_loss', 'val_acc', 'loss', 'acc'])\n",
            "_________________________________________________________________\n",
            "Layer (type)                 Output Shape              Param #   \n",
            "=================================================================\n",
            "dense_15 (Dense)             (None, 512)               401920    \n",
            "_________________________________________________________________\n",
            "dropout_10 (Dropout)         (None, 512)               0         \n",
            "_________________________________________________________________\n",
            "dense_16 (Dense)             (None, 512)               262656    \n",
            "_________________________________________________________________\n",
            "activation_10 (Activation)   (None, 512)               0         \n",
            "_________________________________________________________________\n",
            "dropout_11 (Dropout)         (None, 512)               0         \n",
            "_________________________________________________________________\n",
            "dense_17 (Dense)             (None, 512)               262656    \n",
            "_________________________________________________________________\n",
            "activation_11 (Activation)   (None, 512)               0         \n",
            "_________________________________________________________________\n",
            "dropout_12 (Dropout)         (None, 512)               0         \n",
            "_________________________________________________________________\n",
            "dense_18 (Dense)             (None, 10)                5130      \n",
            "_________________________________________________________________\n",
            "activation_12 (Activation)   (None, 10)                0         \n",
            "=================================================================\n",
            "Total params: 932,362\n",
            "Trainable params: 932,362\n",
            "Non-trainable params: 0\n",
            "_________________________________________________________________\n",
            "Train on 60000 samples, validate on 10000 samples\n",
            "Epoch 1/10\n",
            "40704/60000 [===================>..........] - ETA: 1s - loss: 2.3655 - acc: 0.1028"
          ],
          "name": "stdout"
        },
        {
          "output_type": "stream",
          "text": [
            "60000/60000 [==============================] - 4s 64us/step - loss: 2.3610 - acc: 0.1045 - val_loss: 2.2966 - val_acc: 0.1136\n",
            "Epoch 2/10\n",
            "60000/60000 [==============================] - 4s 60us/step - loss: 2.3491 - acc: 0.1043 - val_loss: 2.2947 - val_acc: 0.1028\n",
            "Epoch 3/10\n",
            "60000/60000 [==============================] - 4s 60us/step - loss: 2.3364 - acc: 0.1101 - val_loss: 2.2890 - val_acc: 0.1010\n",
            "Epoch 4/10\n",
            "60000/60000 [==============================] - 4s 60us/step - loss: 2.3315 - acc: 0.1100 - val_loss: 2.2841 - val_acc: 0.2117\n",
            "Epoch 5/10\n",
            "41856/60000 [===================>..........] - ETA: 1s - loss: 2.3204 - acc: 0.1162"
          ],
          "name": "stdout"
        },
        {
          "output_type": "stream",
          "text": [
            "60000/60000 [==============================] - 4s 59us/step - loss: 2.3190 - acc: 0.1161 - val_loss: 2.2775 - val_acc: 0.1169\n",
            "Epoch 6/10\n",
            "60000/60000 [==============================] - 4s 60us/step - loss: 2.3098 - acc: 0.1212 - val_loss: 2.2707 - val_acc: 0.1660\n",
            "Epoch 7/10\n",
            "60000/60000 [==============================] - 4s 59us/step - loss: 2.3021 - acc: 0.1245 - val_loss: 2.2641 - val_acc: 0.3015\n",
            "Epoch 8/10\n",
            "60000/60000 [==============================] - 4s 60us/step - loss: 2.2927 - acc: 0.1353 - val_loss: 2.2555 - val_acc: 0.2144\n",
            "Epoch 9/10\n",
            "41856/60000 [===================>..........] - ETA: 1s - loss: 2.2859 - acc: 0.1392"
          ],
          "name": "stdout"
        },
        {
          "output_type": "stream",
          "text": [
            "60000/60000 [==============================] - 4s 60us/step - loss: 2.2829 - acc: 0.1418 - val_loss: 2.2469 - val_acc: 0.2633\n",
            "Epoch 10/10\n",
            "60000/60000 [==============================] - 3s 58us/step - loss: 2.2707 - acc: 0.1556 - val_loss: 2.2314 - val_acc: 0.2658\n",
            "Test score: 2.2314223358154295\n",
            "Test accuracy: 0.2658\n",
            "dict_keys(['val_loss', 'val_acc', 'loss', 'acc'])\n"
          ],
          "name": "stdout"
        },
        {
          "output_type": "display_data",
          "data": {
            "image/png": "[encoded data removed]",
            "text/plain": [
              "<matplotlib.figure.Figure at 0x7f0523bf9e48>"
            ]
          },
          "metadata": {
            "tags": []
          }
        }
      ]
    },
    {
      "metadata": {
        "id": "yyJVLeEQ2d0a",
        "colab_type": "text"
      },
      "cell_type": "markdown",
      "source": [
        "As we can see from the plot above, the more layers we add the worse the models perform. One of the  reasons is the fact that we use sigmoid for the hiden layer as well.  With MNIST, we are trying to predict based on probabilities.\n",
        "The sigmoid function \"squishes\" the weights between 0 and 1. Moreover sigmoid  tends to create the \"vanishing gradient problem\", which is common with sigmoid as \n",
        "an activation funstion especially for multiple layers, which is the reason of the decreasing accuracy. Using softmax as the activation function for the output layer seems logical, since it is the norm for classification problems with multiple classes, so this will not be modified\n",
        "\n",
        "On the other hand the ReLU function which we use later does not squish the values. If the value is less than 0, then the output is 0. If its more than 0, the answer is the value itself. This leaves for more space for the parameters to \"train\" and find the best possible changes for w's. Also, having multiple layers (aka a deep network) makes our network more eager to recognize certain aspects of input data. For example, if we want to find the details of the number \"5\" having more layers than needed can lead to overfiting.\n",
        "Specifically we get:\n",
        "\n",
        "-For 1 hidden layer:  88%\n",
        "-For 2 hidden layers: 79%\n",
        "-For 3 hidden layers: 26%\n",
        "\n"
      ]
    },
    {
      "metadata": {
        "id": "2Gxa5WoF19gE",
        "colab_type": "text"
      },
      "cell_type": "markdown",
      "source": [
        "   In the next cell we train the modified models. We increased the dropout to 0.4 to reduce overfitting and generalize in a more efficient way. The idea is that in each step each neuron has a probabilty of 'p' of drop rate, meaning that it will be ignored for the current step but it can be use for the next one. A typical values is 50%, in our case 40% seemed to provide slightly better results.\n",
        "   \n",
        "   To determine which activation function to use for the extra hidden layer first we tried a number of different functions like 'linear' 'relu' etc. Out of all possible activation functions relu was one of the best performance in terms of loss, meaning that it was among the lowests. Additionaly, the selection of relu is justified by the fact that the actual function takes in account only positive \"probabilities\" of the neurons since it serves as a thresholded at zero. This also led in a  better performance in time, especially compared to other functions. Finally since we also used SGD as our optimizer picking relu makes even more sence since it has been found to accelerate the convergence of stochastic gradient descent compared to the sigmoid/tanh functions. It is argued that this is due to its linear, non-saturating form in 'ImageNet Classification with Deep Convolutional Neural Networks' paper.\n",
        "(http://www.cs.toronto.edu/~fritz/absps/imagenet.pdf)\n",
        "\n",
        "Running for multiple number of neurons, we observed that it does affect the model performance. When a neural network has too few hidden neurons (< 64), it does not have the capacity to learn enough of the underlying patterns to distinguish between 0 – 9 effectively. When the neural network has >= 64 neurons, the neural network start to do better. At increasing number of hidden neurons (>= 256), the number of hidden neurons does not help too much for this problem.\n"
      ]
    },
    {
      "metadata": {
        "id": "f3MNSwvAeKW6",
        "colab_type": "code",
        "colab": {
          "autoexec": {
            "startup": false,
            "wait_interval": 0
          },
          "base_uri": "https://localhost:8080/",
          "height": 2950
        },
        "outputId": "76ee241d-d90b-4a48-8309-f54f0782faa9",
        "executionInfo": {
          "status": "ok",
          "timestamp": 1523461576568,
          "user_tz": -120,
          "elapsed": 98844,
          "user": {
            "displayName": "metalrules211",
            "photoUrl": "//lh5.googleusercontent.com/-eXRoLTRTB4M/AAAAAAAAAAI/AAAAAAAAABY/a8zMwRWnaDU/s50-c-k-no/photo.jpg",
            "userId": "110111763941813844581"
          }
        }
      },
      "cell_type": "code",
      "source": [
        "#------------------------ Modified Models-----------------------\n",
        "myColors = ['r', 'g', 'b', 'y']\n",
        "plt.figure(figsize = (10, 8))\n",
        "for i in range(3):\n",
        "  model = Sequential()\n",
        "  model.add(Dense(256, input_shape=(784,), activation='relu'))\n",
        "  model.add(Dropout(0.1))\n",
        "  neurons = 256\n",
        "  number_hidden_layers=i\n",
        "  while number_hidden_layers >= 1:\n",
        "      neurons = int(neurons/2)\n",
        "      model.add(Dense(neurons))\n",
        "      model.add(Activation('relu'))\n",
        "      model.add(Dropout(0.1))\n",
        "      number_hidden_layers -= 1\n",
        "  number_hidden_layers = number_hidden_layers+1\n",
        "  model.add(Dense(10))\n",
        "  model.add(Activation('softmax'))\n",
        "\n",
        "  model.summary()\n",
        "\n",
        "  model.compile(loss='categorical_crossentropy',\n",
        "                optimizer=SGD(),\n",
        "                metrics=['accuracy'])\n",
        "  history = model.fit(X_train, Y_train,\n",
        "                    batch_size=batch_size, nb_epoch=nb_epoch,\n",
        "                    verbose=1, validation_data=(X_test, Y_test))\n",
        "  score = model.evaluate(X_test, Y_test, verbose=0)\n",
        "  print('Test score:', score[0])\n",
        "  print('Test accuracy:', score[1])\n",
        "  # list all data in history\n",
        "  print(history.history.keys())\n",
        "  # summarize history for accuracy\n",
        "  plt.plot(history.history['acc'], c = myColors[i], label = \"Train \" + str(i))\n",
        "  plt.plot(history.history['val_acc'], c = myColors[i], label = \"Test\" + str(i), linestyle = \"--\")\n",
        "  plt.title('model accuracy')\n",
        "  plt.ylabel('accuracy')\n",
        "  plt.xlabel('epoch')\n",
        "  #plt.legend([trainlegend[i], testlegend[i]], loc='upper left')\n",
        "plt.legend()\n",
        "# plt.gca().set_color_cycle(['red', 'green', 'blue', 'yellow'])\n",
        "plt.show()\n",
        "  "
      ],
      "execution_count": 13,
      "outputs": [
        {
          "output_type": "execute_result",
          "data": {
            "text/plain": [
              "<matplotlib.figure.Figure at 0x7f61e6e85780>"
            ]
          },
          "metadata": {
            "tags": []
          },
          "execution_count": 13
        },
        {
          "output_type": "stream",
          "text": [
            "_________________________________________________________________\n",
            "Layer (type)                 Output Shape              Param #   \n",
            "=================================================================\n",
            "dense_37 (Dense)             (None, 256)               200960    \n",
            "_________________________________________________________________\n",
            "dropout_25 (Dropout)         (None, 256)               0         \n",
            "_________________________________________________________________\n",
            "dense_38 (Dense)             (None, 10)                2570      \n",
            "_________________________________________________________________\n",
            "activation_25 (Activation)   (None, 10)                0         \n",
            "=================================================================\n",
            "Total params: 203,530\n",
            "Trainable params: 203,530\n",
            "Non-trainable params: 0\n",
            "_________________________________________________________________\n",
            "Train on 60000 samples, validate on 10000 samples\n",
            "Epoch 1/10\n",
            "60000/60000 [==============================] - 3s 50us/step - loss: 1.1532 - acc: 0.7177 - val_loss: 0.6272 - val_acc: 0.8587\n",
            "Epoch 2/10\n",
            "51328/60000 [========================>.....] - ETA: 0s - loss: 0.5719 - acc: 0.8574"
          ],
          "name": "stdout"
        },
        {
          "output_type": "stream",
          "text": [
            "60000/60000 [==============================] - 3s 46us/step - loss: 0.5597 - acc: 0.8592 - val_loss: 0.4481 - val_acc: 0.8879\n",
            "Epoch 3/10\n",
            "60000/60000 [==============================] - 3s 46us/step - loss: 0.4500 - acc: 0.8786 - val_loss: 0.3840 - val_acc: 0.9012\n",
            "Epoch 4/10\n",
            "60000/60000 [==============================] - 3s 47us/step - loss: 0.4013 - acc: 0.8894 - val_loss: 0.3504 - val_acc: 0.9065\n",
            "Epoch 5/10\n",
            "60000/60000 [==============================] - 3s 46us/step - loss: 0.3723 - acc: 0.8958 - val_loss: 0.3269 - val_acc: 0.9128\n",
            "Epoch 6/10\n",
            "60000/60000 [==============================] - 3s 46us/step - loss: 0.3508 - acc: 0.9020 - val_loss: 0.3100 - val_acc: 0.9171\n",
            "Epoch 7/10\n",
            "17280/60000 [=======>......................] - ETA: 1s - loss: 0.3421 - acc: 0.9036"
          ],
          "name": "stdout"
        },
        {
          "output_type": "stream",
          "text": [
            "60000/60000 [==============================] - 3s 46us/step - loss: 0.3324 - acc: 0.9065 - val_loss: 0.2966 - val_acc: 0.9188\n",
            "Epoch 8/10\n",
            "60000/60000 [==============================] - 3s 46us/step - loss: 0.3184 - acc: 0.9098 - val_loss: 0.2850 - val_acc: 0.9213\n",
            "Epoch 9/10\n",
            "60000/60000 [==============================] - 3s 46us/step - loss: 0.3062 - acc: 0.9136 - val_loss: 0.2754 - val_acc: 0.9232\n",
            "Epoch 10/10\n",
            "60000/60000 [==============================] - 3s 46us/step - loss: 0.2955 - acc: 0.9172 - val_loss: 0.2668 - val_acc: 0.9260\n",
            "Test score: 0.26684256731271744\n",
            "Test accuracy: 0.926\n",
            "dict_keys(['val_loss', 'val_acc', 'loss', 'acc'])\n"
          ],
          "name": "stdout"
        },
        {
          "output_type": "execute_result",
          "data": {
            "text/plain": [
              "[<matplotlib.lines.Line2D at 0x7f61db189ef0>]"
            ]
          },
          "metadata": {
            "tags": []
          },
          "execution_count": 13
        },
        {
          "output_type": "execute_result",
          "data": {
            "text/plain": [
              "[<matplotlib.lines.Line2D at 0x7f61db18f4a8>]"
            ]
          },
          "metadata": {
            "tags": []
          },
          "execution_count": 13
        },
        {
          "output_type": "execute_result",
          "data": {
            "text/plain": [
              "Text(0.5,1,'model accuracy')"
            ]
          },
          "metadata": {
            "tags": []
          },
          "execution_count": 13
        },
        {
          "output_type": "execute_result",
          "data": {
            "text/plain": [
              "Text(0,0.5,'accuracy')"
            ]
          },
          "metadata": {
            "tags": []
          },
          "execution_count": 13
        },
        {
          "output_type": "execute_result",
          "data": {
            "text/plain": [
              "Text(0.5,0,'epoch')"
            ]
          },
          "metadata": {
            "tags": []
          },
          "execution_count": 13
        },
        {
          "output_type": "stream",
          "text": [
            "_________________________________________________________________\n",
            "Layer (type)                 Output Shape              Param #   \n",
            "=================================================================\n",
            "dense_39 (Dense)             (None, 256)               200960    \n",
            "_________________________________________________________________\n",
            "dropout_26 (Dropout)         (None, 256)               0         \n",
            "_________________________________________________________________\n",
            "dense_40 (Dense)             (None, 128)               32896     \n",
            "_________________________________________________________________\n",
            "activation_26 (Activation)   (None, 128)               0         \n",
            "_________________________________________________________________\n",
            "dropout_27 (Dropout)         (None, 128)               0         \n",
            "_________________________________________________________________\n",
            "dense_41 (Dense)             (None, 10)                1290      \n",
            "_________________________________________________________________\n",
            "activation_27 (Activation)   (None, 10)                0         \n",
            "=================================================================\n",
            "Total params: 235,146\n",
            "Trainable params: 235,146\n",
            "Non-trainable params: 0\n",
            "_________________________________________________________________\n",
            "Train on 60000 samples, validate on 10000 samples\n",
            "Epoch 1/10\n",
            "60000/60000 [==============================] - 4s 59us/step - loss: 1.2379 - acc: 0.6728 - val_loss: 0.5616 - val_acc: 0.8682\n",
            "Epoch 2/10\n",
            "12160/60000 [=====>........................] - ETA: 2s - loss: 0.6230 - acc: 0.8312"
          ],
          "name": "stdout"
        },
        {
          "output_type": "stream",
          "text": [
            "60000/60000 [==============================] - 3s 52us/step - loss: 0.5374 - acc: 0.8514 - val_loss: 0.3893 - val_acc: 0.8968\n",
            "Epoch 3/10\n",
            "60000/60000 [==============================] - 3s 51us/step - loss: 0.4280 - acc: 0.8767 - val_loss: 0.3314 - val_acc: 0.9080\n",
            "Epoch 4/10\n",
            "60000/60000 [==============================] - 3s 52us/step - loss: 0.3766 - acc: 0.8908 - val_loss: 0.3001 - val_acc: 0.9150\n",
            "Epoch 5/10\n",
            "60000/60000 [==============================] - 3s 52us/step - loss: 0.3451 - acc: 0.9017 - val_loss: 0.2789 - val_acc: 0.9201\n",
            "Epoch 6/10\n",
            "59008/60000 [============================>.] - ETA: 0s - loss: 0.3198 - acc: 0.9081"
          ],
          "name": "stdout"
        },
        {
          "output_type": "stream",
          "text": [
            "60000/60000 [==============================] - 3s 52us/step - loss: 0.3192 - acc: 0.9083 - val_loss: 0.2603 - val_acc: 0.9256\n",
            "Epoch 7/10\n",
            "60000/60000 [==============================] - 3s 52us/step - loss: 0.3009 - acc: 0.9134 - val_loss: 0.2456 - val_acc: 0.9299\n",
            "Epoch 8/10\n",
            "60000/60000 [==============================] - 3s 51us/step - loss: 0.2845 - acc: 0.9182 - val_loss: 0.2342 - val_acc: 0.9310\n",
            "Epoch 9/10\n",
            "60000/60000 [==============================] - 3s 51us/step - loss: 0.2687 - acc: 0.9225 - val_loss: 0.2228 - val_acc: 0.9351\n",
            "Epoch 10/10\n",
            "60000/60000 [==============================] - 3s 52us/step - loss: 0.2573 - acc: 0.9257 - val_loss: 0.2129 - val_acc: 0.9377\n",
            "Test score: 0.21294747185260057\n",
            "Test accuracy: 0.9377\n",
            "dict_keys(['val_loss', 'val_acc', 'loss', 'acc'])\n"
          ],
          "name": "stdout"
        },
        {
          "output_type": "execute_result",
          "data": {
            "text/plain": [
              "[<matplotlib.lines.Line2D at 0x7f61dad13908>]"
            ]
          },
          "metadata": {
            "tags": []
          },
          "execution_count": 13
        },
        {
          "output_type": "execute_result",
          "data": {
            "text/plain": [
              "[<matplotlib.lines.Line2D at 0x7f61daca4c18>]"
            ]
          },
          "metadata": {
            "tags": []
          },
          "execution_count": 13
        },
        {
          "output_type": "execute_result",
          "data": {
            "text/plain": [
              "Text(0.5,1,'model accuracy')"
            ]
          },
          "metadata": {
            "tags": []
          },
          "execution_count": 13
        },
        {
          "output_type": "execute_result",
          "data": {
            "text/plain": [
              "Text(0,0.5,'accuracy')"
            ]
          },
          "metadata": {
            "tags": []
          },
          "execution_count": 13
        },
        {
          "output_type": "execute_result",
          "data": {
            "text/plain": [
              "Text(0.5,0,'epoch')"
            ]
          },
          "metadata": {
            "tags": []
          },
          "execution_count": 13
        },
        {
          "output_type": "stream",
          "text": [
            "_________________________________________________________________\n",
            "Layer (type)                 Output Shape              Param #   \n",
            "=================================================================\n",
            "dense_42 (Dense)             (None, 256)               200960    \n",
            "_________________________________________________________________\n",
            "dropout_28 (Dropout)         (None, 256)               0         \n",
            "_________________________________________________________________\n",
            "dense_43 (Dense)             (None, 128)               32896     \n",
            "_________________________________________________________________\n",
            "activation_28 (Activation)   (None, 128)               0         \n",
            "_________________________________________________________________\n",
            "dropout_29 (Dropout)         (None, 128)               0         \n",
            "_________________________________________________________________\n",
            "dense_44 (Dense)             (None, 64)                8256      \n",
            "_________________________________________________________________\n",
            "activation_29 (Activation)   (None, 64)                0         \n",
            "_________________________________________________________________\n",
            "dropout_30 (Dropout)         (None, 64)                0         \n",
            "_________________________________________________________________\n",
            "dense_45 (Dense)             (None, 10)                650       \n",
            "_________________________________________________________________\n",
            "activation_30 (Activation)   (None, 10)                0         \n",
            "=================================================================\n",
            "Total params: 242,762\n",
            "Trainable params: 242,762\n",
            "Non-trainable params: 0\n",
            "_________________________________________________________________\n",
            "Train on 60000 samples, validate on 10000 samples\n",
            "Epoch 1/10\n",
            "51200/60000 [========================>.....] - ETA: 0s - loss: 1.5863 - acc: 0.5208"
          ],
          "name": "stdout"
        },
        {
          "output_type": "stream",
          "text": [
            "60000/60000 [==============================] - 4s 65us/step - loss: 1.4765 - acc: 0.5547 - val_loss: 0.6384 - val_acc: 0.8354\n",
            "Epoch 2/10\n",
            "60000/60000 [==============================] - 3s 57us/step - loss: 0.6419 - acc: 0.8079 - val_loss: 0.4024 - val_acc: 0.8939\n",
            "Epoch 3/10\n",
            "60000/60000 [==============================] - 3s 57us/step - loss: 0.4800 - acc: 0.8600 - val_loss: 0.3268 - val_acc: 0.9108\n",
            "Epoch 4/10\n",
            "60000/60000 [==============================] - 3s 57us/step - loss: 0.4049 - acc: 0.8814 - val_loss: 0.2855 - val_acc: 0.9196\n",
            "Epoch 5/10\n",
            "49536/60000 [=======================>......] - ETA: 0s - loss: 0.3568 - acc: 0.8954"
          ],
          "name": "stdout"
        },
        {
          "output_type": "stream",
          "text": [
            "60000/60000 [==============================] - 3s 57us/step - loss: 0.3547 - acc: 0.8959 - val_loss: 0.2581 - val_acc: 0.9268\n",
            "Epoch 6/10\n",
            "60000/60000 [==============================] - 3s 57us/step - loss: 0.3268 - acc: 0.9046 - val_loss: 0.2377 - val_acc: 0.9331\n",
            "Epoch 7/10\n",
            "60000/60000 [==============================] - 3s 57us/step - loss: 0.3011 - acc: 0.9121 - val_loss: 0.2202 - val_acc: 0.9368\n",
            "Epoch 8/10\n",
            "60000/60000 [==============================] - 3s 58us/step - loss: 0.2769 - acc: 0.9187 - val_loss: 0.2076 - val_acc: 0.9410\n",
            "Epoch 9/10\n",
            "47872/60000 [======================>.......] - ETA: 0s - loss: 0.2624 - acc: 0.9231"
          ],
          "name": "stdout"
        },
        {
          "output_type": "stream",
          "text": [
            "60000/60000 [==============================] - 3s 58us/step - loss: 0.2610 - acc: 0.9240 - val_loss: 0.1941 - val_acc: 0.9438\n",
            "Epoch 10/10\n",
            "60000/60000 [==============================] - 3s 57us/step - loss: 0.2470 - acc: 0.9262 - val_loss: 0.1832 - val_acc: 0.9462\n",
            "Test score: 0.1832090472713113\n",
            "Test accuracy: 0.9462\n",
            "dict_keys(['val_loss', 'val_acc', 'loss', 'acc'])\n"
          ],
          "name": "stdout"
        },
        {
          "output_type": "execute_result",
          "data": {
            "text/plain": [
              "[<matplotlib.lines.Line2D at 0x7f61dabba208>]"
            ]
          },
          "metadata": {
            "tags": []
          },
          "execution_count": 13
        },
        {
          "output_type": "execute_result",
          "data": {
            "text/plain": [
              "[<matplotlib.lines.Line2D at 0x7f61da816160>]"
            ]
          },
          "metadata": {
            "tags": []
          },
          "execution_count": 13
        },
        {
          "output_type": "execute_result",
          "data": {
            "text/plain": [
              "Text(0.5,1,'model accuracy')"
            ]
          },
          "metadata": {
            "tags": []
          },
          "execution_count": 13
        },
        {
          "output_type": "execute_result",
          "data": {
            "text/plain": [
              "Text(0,0.5,'accuracy')"
            ]
          },
          "metadata": {
            "tags": []
          },
          "execution_count": 13
        },
        {
          "output_type": "execute_result",
          "data": {
            "text/plain": [
              "Text(0.5,0,'epoch')"
            ]
          },
          "metadata": {
            "tags": []
          },
          "execution_count": 13
        },
        {
          "output_type": "execute_result",
          "data": {
            "text/plain": [
              "<matplotlib.legend.Legend at 0x7f61dd9c0a20>"
            ]
          },
          "metadata": {
            "tags": []
          },
          "execution_count": 13
        },
        {
          "output_type": "display_data",
          "data": {
            "image/png": "[encoded data removed]",
            "application/pdf": "[encoded data removed]",
            "text/plain": [
              "<matplotlib.figure.Figure at 0x7f61e6e85780>"
            ]
          },
          "metadata": {
            "tags": []
          }
        }
      ]
    },
    {
      "metadata": {
        "id": "mzLueZ0M7E8_",
        "colab_type": "text"
      },
      "cell_type": "markdown",
      "source": [
        "As we can see now by changing the parameters the performance of the new architecture is significantly better. We also get an increasing accuracy in contrast with before, which can be attributed to the change of the \n",
        "activation function.\n",
        "\n",
        "Specifically we get:\n",
        "\n",
        "-For 1 hidden layer: 92.6% \n",
        "-For 2 hidden layers: 93.7% \n",
        "-For 3 hidden layers: 94.6%\n",
        "\n",
        "\n"
      ]
    },
    {
      "metadata": {
        "id": "wqeUW-15KEAL",
        "colab_type": "text"
      },
      "cell_type": "markdown",
      "source": [
        "## MNIST Calculator (6 points)\n",
        "\n",
        "During the lectures you have seen a CNN model that can be successfully trained to classify the MNIST images. You have also seen how a RNN model that can be trained to implement addition of two numbers. You now need to build a model that is a combination of convolutional layers and recurrent cells. \n",
        "\n",
        "Using the KERAS library, design and train a model that produces a sum of a sequence of MNIST images. More specifically, the model should input a sequence of 10 images and compute the cumulative sum of the digits represented by the images.\n",
        "\n",
        "For example:\n",
        "\n",
        "Input 1: ![294](images/a3ex1.png)\n",
        "\n",
        "Output 1: 15\n",
        "\n",
        "Input 2: ![61](images/a3ex2.png)\n",
        "\n",
        "Output 2: 7\n",
        "\n",
        "Your solutions should include:\n",
        "- Python code that formats the MNIST dataset such that it can be used for traning and testing your model\n",
        "- Implementation in keras of your model (for training and testing)\n",
        "- Performance on the model on test data\n",
        "- Justification (in text) of your decisions for the model architecture (type of layers, activation functions, loss function, regularization and training hyperparameters)\n",
        "\n",
        "Note: Use the 60000/10000 train/test split of the MNIST dataset\n"
      ]
    },
    {
      "metadata": {
        "id": "sN_6KFFHOojH",
        "colab_type": "code",
        "colab": {
          "autoexec": {
            "startup": false,
            "wait_interval": 0
          }
        }
      },
      "cell_type": "code",
      "source": [
        "import keras.backend as K\n",
        "import numpy as np\n",
        "\n",
        "from keras.datasets import mnist\n",
        "from keras.models import Model, Sequential\n",
        "from keras.layers.recurrent import SimpleRNN, LSTM, GRU\n",
        "from keras.optimizers import RMSprop\n",
        "from keras.layers.convolutional import Conv2D\n",
        "from keras.layers.core import Dense, Activation, Dropout, Flatten, Reshape\n",
        "from keras.layers.wrappers import TimeDistributed\n",
        "from keras.layers import Input, RepeatVector, ConvLSTM2D\n",
        "from keras.layers import Conv2D, MaxPooling2D\n",
        "from __future__ import print_function"
      ],
      "execution_count": 0,
      "outputs": []
    },
    {
      "metadata": {
        "id": "dvZ6_1CaP0hW",
        "colab_type": "text"
      },
      "cell_type": "markdown",
      "source": [
        "### Python code that formats the MNIST dataset "
      ]
    },
    {
      "metadata": {
        "id": "hBd5XRGkKEAN",
        "colab_type": "code",
        "colab": {
          "autoexec": {
            "startup": false,
            "wait_interval": 0
          },
          "base_uri": "https://localhost:8080/",
          "height": 51
        },
        "outputId": "b92e366a-c3f5-4d8a-e3f5-b60bb0e401f2",
        "executionInfo": {
          "status": "ok",
          "timestamp": 1523201452004,
          "user_tz": -120,
          "elapsed": 1092,
          "user": {
            "displayName": "Jorge Gómez",
            "photoUrl": "//lh5.googleusercontent.com/-OHXqZEKFiwY/AAAAAAAAAAI/AAAAAAAAG1Q/EYd5cagCTIo/s50-c-k-no/photo.jpg",
            "userId": "108155755194959101108"
          }
        }
      },
      "cell_type": "code",
      "source": [
        "######################### Obtain the dataset, as usual #########################\n",
        "\n",
        "batch_size = 128\n",
        "nb_classes = 10\n",
        "\n",
        "# Load dataset\n",
        "(X_train, y_train), (X_test, y_test) = mnist.load_data()\n",
        "\n",
        "X_train = X_train.reshape(60000, 784) # 784 = 28*28\n",
        "X_test = X_test.reshape(10000, 784)\n",
        "\n",
        "# Normalize\n",
        "X_train = X_train.astype('float32')\n",
        "X_test = X_test.astype('float32')\n",
        "X_train /= 255\n",
        "X_test /= 255\n",
        "\n",
        "print(X_train.shape[0], 'train samples')\n",
        "print(X_test.shape[0], 'test samples')\n"
      ],
      "execution_count": 37,
      "outputs": [
        {
          "output_type": "stream",
          "text": [
            "60000 train samples\n",
            "10000 test samples\n"
          ],
          "name": "stdout"
        }
      ]
    },
    {
      "metadata": {
        "id": "-kq1KWsPUEIh",
        "colab_type": "code",
        "colab": {
          "autoexec": {
            "startup": false,
            "wait_interval": 0
          }
        }
      },
      "cell_type": "code",
      "source": [
        "class CharacterTable(object):\n",
        "    \"\"\"Given a set of characters:\n",
        "    + Encode them to a one hot integer representation\n",
        "    + Decode the one hot integer representation to their character output\n",
        "    + Decode a vector of probabilities to their character output\n",
        "    \"\"\"\n",
        "    def __init__(self, chars):\n",
        "        \"\"\"Initialize character table.\n",
        "        # Arguments\n",
        "            chars: Characters that can appear in the input.\n",
        "        \"\"\"\n",
        "        self.chars = sorted(set(chars))\n",
        "        self.char_indices = dict((c, i) for i, c in enumerate(self.chars))\n",
        "        self.indices_char = dict((i, c) for i, c in enumerate(self.chars))\n",
        "\n",
        "    def encode(self, C, num_rows):\n",
        "        \"\"\"One hot encode given string C.\n",
        "        # Arguments\n",
        "            num_rows: Number of rows in the returned one hot encoding. This is\n",
        "                used to keep the # of rows for each data the same.\n",
        "        \"\"\"\n",
        "        x = np.zeros((num_rows, len(self.chars)))\n",
        "        for i, c in enumerate(C):\n",
        "            x[i, self.char_indices[c]] = 1\n",
        "        return x\n",
        "\n",
        "    def decode(self, x, calc_argmax=True):\n",
        "        if calc_argmax:\n",
        "            x = x.argmax(axis=-1)\n",
        "        return ''.join(self.indices_char[x] for x in x)\n",
        "\n",
        "\n",
        "class colors:\n",
        "    ok = '\\033[92m'\n",
        "    fail = '\\033[91m'\n",
        "    close = '\\033[0m'"
      ],
      "execution_count": 0,
      "outputs": []
    },
    {
      "metadata": {
        "id": "11dgZwuISxwx",
        "colab_type": "code",
        "colab": {
          "autoexec": {
            "startup": false,
            "wait_interval": 0
          },
          "base_uri": "https://localhost:8080/",
          "height": 51
        },
        "outputId": "70b70ac8-48ac-41c4-8b95-a377a6d8d7fe",
        "executionInfo": {
          "status": "ok",
          "timestamp": 1523201908010,
          "user_tz": -120,
          "elapsed": 524,
          "user": {
            "displayName": "Jorge Gómez",
            "photoUrl": "//lh5.googleusercontent.com/-OHXqZEKFiwY/AAAAAAAAAAI/AAAAAAAAG1Q/EYd5cagCTIo/s50-c-k-no/photo.jpg",
            "userId": "108155755194959101108"
          }
        }
      },
      "cell_type": "code",
      "source": [
        "DIGITS = 1 \n",
        "SUM_LENGTH = 2 # Sum is a.m 2 digits: 90 (9 + 9 + 9 + 9 + 9 + 9 + 9 + 9 + 9 + 9)\n",
        "\n",
        "chars = '0123456789' # The accepted characters\n",
        "ctable = CharacterTable(chars) # Create the table\n",
        "\n",
        "print(\"Dictionary of characters is: \")\n",
        "print(ctable.char_indices)\n",
        "\n",
        "def transform_X_y(X, y):\n",
        "  # Now we want to obtain sequences of 10 numbers, and sum up its values\n",
        "  y_aux = y.copy()\n",
        "  X_input = X.copy()\n",
        "\n",
        "  # arrays of 10 digits\n",
        "  X_input = X_input.reshape((-1,10, 28, 28, 1)) #28x28 ; 1 channel\n",
        "  y_aux = y_aux.reshape((-1,10))\n",
        "\n",
        "  # Get the true target (sum of the 10 digits)\n",
        "  y_true = []\n",
        "  for values in y_aux:\n",
        "    y_true.append(sum(values))\n",
        "\n",
        "  # Vectorize  data\n",
        "  y = np.zeros((len(y_true), SUM_LENGTH, len(chars)), dtype=np.bool)\n",
        "  \n",
        "  # Work with np arrays always... \n",
        "  y_true = np.asarray(y_true)\n",
        "  \n",
        "  # Get the encoded representation of the number (we could use categorical since\n",
        "  # the beginning btw, but following the tutorial approach)\n",
        "  for i, result in enumerate(y_true):\n",
        "      y[i] = ctable.encode(str(result), SUM_LENGTH)\n",
        "\n",
        "  return X_input, y_true, y"
      ],
      "execution_count": 38,
      "outputs": [
        {
          "output_type": "stream",
          "text": [
            "Dictionary of characters is: \n",
            "{'0': 0, '1': 1, '2': 2, '3': 3, '4': 4, '5': 5, '6': 6, '7': 7, '8': 8, '9': 9}\n"
          ],
          "name": "stdout"
        }
      ]
    },
    {
      "metadata": {
        "id": "xfZMaauwZm1Z",
        "colab_type": "code",
        "colab": {
          "autoexec": {
            "startup": false,
            "wait_interval": 0
          },
          "base_uri": "https://localhost:8080/",
          "height": 170
        },
        "outputId": "a30c45c8-a2af-40b7-8368-28c4a05d42e2",
        "executionInfo": {
          "status": "ok",
          "timestamp": 1523202420199,
          "user_tz": -120,
          "elapsed": 553,
          "user": {
            "displayName": "Jorge Gómez",
            "photoUrl": "//lh5.googleusercontent.com/-OHXqZEKFiwY/AAAAAAAAAAI/AAAAAAAAG1Q/EYd5cagCTIo/s50-c-k-no/photo.jpg",
            "userId": "108155755194959101108"
          }
        }
      },
      "cell_type": "code",
      "source": [
        "# Get the data we will feed the network with. Our approach is to send 10 digits \n",
        "# as images (sequence), so our shapes are (n_obs, 10, width, height, channels)\n",
        "\n",
        "X_train_input, y_train_true, y_train_seq = transform_X_y(X_train, y_train)\n",
        "X_test_input, y_test_true, y_test_seq = transform_X_y(X_test, y_test)\n",
        "\n",
        "print(\"Train shapes...\")\n",
        "print(\"X_train_input : {}\".format(X_train_input.shape))\n",
        "print(\"y_train_true : {}\".format(y_train_true.shape))\n",
        "print(\"y_train_seq : {}\".format(y_train_seq.shape))\n",
        "print(\"\\nTest shapes...\")\n",
        "print(\"X_test_input : {}\".format(X_test_input.shape))\n",
        "print(\"y_test_true : {}\".format(y_test_true.shape))\n",
        "print(\"y_test_seq : {}\".format(y_test_seq.shape))\n"
      ],
      "execution_count": 40,
      "outputs": [
        {
          "output_type": "stream",
          "text": [
            "Train shapes...\n",
            "X_train_input : (6000, 10, 28, 28, 1)\n",
            "y_train_true : (6000,)\n",
            "y_train_seq : (6000, 2, 10)\n",
            "\n",
            "Test shapes...\n",
            "X_test_input : (1000, 10, 28, 28, 1)\n",
            "y_test_true : (1000,)\n",
            "y_test_seq : (1000, 2, 10)\n"
          ],
          "name": "stdout"
        }
      ]
    },
    {
      "metadata": {
        "id": "Zza_pXbPP3m1",
        "colab_type": "text"
      },
      "cell_type": "markdown",
      "source": [
        "### Implementation in Keras of the model"
      ]
    },
    {
      "metadata": {
        "id": "4y5XzOihASLc",
        "colab_type": "code",
        "colab": {
          "autoexec": {
            "startup": false,
            "wait_interval": 0
          },
          "base_uri": "https://localhost:8080/",
          "height": 544
        },
        "outputId": "bd3ac504-5610-4baf-8c43-8b1993843f01",
        "executionInfo": {
          "status": "ok",
          "timestamp": 1523207156962,
          "user_tz": -120,
          "elapsed": 3063,
          "user": {
            "displayName": "Jorge Gómez",
            "photoUrl": "//lh5.googleusercontent.com/-OHXqZEKFiwY/AAAAAAAAAAI/AAAAAAAAG1Q/EYd5cagCTIo/s50-c-k-no/photo.jpg",
            "userId": "108155755194959101108"
          }
        }
      },
      "cell_type": "code",
      "source": [
        "# Variables\n",
        "HIDDEN_SIZE = 128 # length of the h (hidden) vector\n",
        "input_shape = (10, 28, 28, 1)\n",
        "\n",
        "# Declare the model\n",
        "model = Sequential()\n",
        "\n",
        "# Receive the 10 mnist digits. The first layer is in charge of receiving 10\n",
        "# images as a convulutional layer. The rest of the layer is the architecture we\n",
        "# found to work the best in Question 2.\n",
        "model.add(ConvLSTM2D(32, (3, 3), input_shape = input_shape, \n",
        "                     activation = \"relu\" ))\n",
        "model.add(MaxPooling2D(pool_size = (2, 2)))\n",
        "model.add(Dropout(0.25))\n",
        "model.add(Conv2D(filters = 64, kernel_size = (3, 3), activation = 'relu'))\n",
        "model.add(MaxPooling2D(pool_size = (2, 2)))\n",
        "model.add(Dropout(0.25))\n",
        "\n",
        "model.add(Flatten())\n",
        "\n",
        "# We indicate that we want two sequences as output\n",
        "model.add(RepeatVector(2*DIGITS)) # Repeat 2 times to obain 2 y_(t)...\n",
        "\n",
        "model.add(GRU(HIDDEN_SIZE, return_sequences = True))\n",
        "model.add(GRU(HIDDEN_SIZE, return_sequences = True))\n",
        "# We want to obtain the probability of the 10 classes (10 numbers/chars)\n",
        "model.add(TimeDistributed(Dense(10)))\n",
        "model.add(Activation('softmax'))\n",
        "# Usual loss function and optimizer\n",
        "model.compile(loss = 'categorical_crossentropy',\n",
        "              optimizer = 'adam',\n",
        "              metrics = ['accuracy'])\n",
        "model.summary()\n"
      ],
      "execution_count": 78,
      "outputs": [
        {
          "output_type": "stream",
          "text": [
            "_________________________________________________________________\n",
            "Layer (type)                 Output Shape              Param #   \n",
            "=================================================================\n",
            "conv_lst_m2d_9 (ConvLSTM2D)  (None, 26, 26, 32)        38144     \n",
            "_________________________________________________________________\n",
            "max_pooling2d_16 (MaxPooling (None, 13, 13, 32)        0         \n",
            "_________________________________________________________________\n",
            "dropout_16 (Dropout)         (None, 13, 13, 32)        0         \n",
            "_________________________________________________________________\n",
            "conv2d_9 (Conv2D)            (None, 11, 11, 64)        18496     \n",
            "_________________________________________________________________\n",
            "max_pooling2d_17 (MaxPooling (None, 5, 5, 64)          0         \n",
            "_________________________________________________________________\n",
            "dropout_17 (Dropout)         (None, 5, 5, 64)          0         \n",
            "_________________________________________________________________\n",
            "flatten_9 (Flatten)          (None, 1600)              0         \n",
            "_________________________________________________________________\n",
            "repeat_vector_9 (RepeatVecto (None, 2, 1600)           0         \n",
            "_________________________________________________________________\n",
            "gru_3 (GRU)                  (None, 2, 128)            663936    \n",
            "_________________________________________________________________\n",
            "gru_4 (GRU)                  (None, 2, 128)            98688     \n",
            "_________________________________________________________________\n",
            "time_distributed_9 (TimeDist (None, 2, 10)             1290      \n",
            "_________________________________________________________________\n",
            "activation_9 (Activation)    (None, 2, 10)             0         \n",
            "=================================================================\n",
            "Total params: 820,554\n",
            "Trainable params: 820,554\n",
            "Non-trainable params: 0\n",
            "_________________________________________________________________\n"
          ],
          "name": "stdout"
        }
      ]
    },
    {
      "metadata": {
        "id": "Bj3oneBRY4bF",
        "colab_type": "code",
        "colab": {
          "autoexec": {
            "startup": false,
            "wait_interval": 0
          },
          "base_uri": "https://localhost:8080/",
          "height": 4607
        },
        "outputId": "c7beccaf-77b1-4302-cb63-840e131ad090",
        "executionInfo": {
          "status": "ok",
          "timestamp": 1523207468880,
          "user_tz": -120,
          "elapsed": 309354,
          "user": {
            "displayName": "Jorge Gómez",
            "photoUrl": "//lh5.googleusercontent.com/-OHXqZEKFiwY/AAAAAAAAAAI/AAAAAAAAG1Q/EYd5cagCTIo/s50-c-k-no/photo.jpg",
            "userId": "108155755194959101108"
          }
        }
      },
      "cell_type": "code",
      "source": [
        "y_test_aux = y_test.reshape(-1, 10)\n",
        "\n",
        "for iteration in range(1, 16):\n",
        "    print()\n",
        "    print('-' * 50)\n",
        "    print('Iteration', iteration)\n",
        "    model.fit(X_train_input, y_train_seq,\n",
        "              batch_size=128,\n",
        "              epochs=1,\n",
        "              validation_data=(X_test_input, y_test_seq))\n",
        "    \n",
        "    print(\"\\nQuestion             Prediction   Answer\")\n",
        "    for i in range(10):\n",
        "        ind = np.random.randint(0, len(X_test_input)) # One index\n",
        "        # Get the X input and the true label\n",
        "        digits = X_test_input[np.array([ind])] # A set of 10 digits\n",
        "        digits_labels = y_test_aux[np.array([ind])]\n",
        "        q = '+'.join(map(str, digits_labels[0])) \n",
        "        correct = y_test_true[ind]\n",
        "        pred = model.predict_classes(digits, verbose=0)[0]\n",
        "        prediction = int(\"{}{}\".format(pred[0], pred[1]))\n",
        "        print(q, \"  \", prediction, \"       \", correct, \"  \", colors.ok \n",
        "              if prediction == correct else colors.fail, \"☑\" \n",
        "              if prediction == correct else \"☒\", colors.close )\n",
        "        \n"
      ],
      "execution_count": 79,
      "outputs": [
        {
          "output_type": "stream",
          "text": [
            "\n",
            "--------------------------------------------------\n",
            "Iteration 1\n",
            "Train on 6000 samples, validate on 1000 samples\n",
            "Epoch 1/1\n",
            "6000/6000 [==============================] - 23s 4ms/step - loss: 2.0405 - acc: 0.2456 - val_loss: 1.8336 - val_acc: 0.2690\n"
          ],
          "name": "stdout"
        },
        {
          "output_type": "execute_result",
          "data": {
            "text/plain": [
              "<keras.callbacks.History at 0x7f23d4155f60>"
            ]
          },
          "metadata": {
            "tags": []
          },
          "execution_count": 79
        },
        {
          "output_type": "stream",
          "text": [
            "\n",
            "Question             Prediction   Answer\n",
            "1+3+6+6+2+9+1+9+4+8    47         49    \u001b[91m ☒ \u001b[0m\n",
            "5+4+7+6+7+9+0+5+8+5    47         56    \u001b[91m ☒ \u001b[0m\n",
            "3+0+2+3+4+2+3+0+9+9    47         35    \u001b[91m ☒ \u001b[0m\n",
            "2+3+3+5+7+0+6+8+6+3    47         43    \u001b[91m ☒ \u001b[0m\n",
            "2+6+5+0+1+2+3+4+5+6    43         34    \u001b[91m ☒ \u001b[0m\n",
            "6+6+2+0+0+0+5+8+7+1    47         35    \u001b[91m ☒ \u001b[0m\n",
            "3+6+9+5+9+6+2+4+6+7    43         57    \u001b[91m ☒ \u001b[0m\n",
            "9+0+1+2+3+4+5+6+7+8    42         45    \u001b[91m ☒ \u001b[0m\n",
            "0+1+2+3+4+5+6+7+8+9    43         45    \u001b[91m ☒ \u001b[0m\n",
            "9+3+4+4+6+4+2+1+8+2    47         43    \u001b[91m ☒ \u001b[0m\n",
            "\n",
            "--------------------------------------------------\n",
            "Iteration 2\n",
            "Train on 6000 samples, validate on 1000 samples\n",
            "Epoch 1/1\n",
            "6000/6000 [==============================] - 20s 3ms/step - loss: 1.8434 - acc: 0.2508 - val_loss: 1.7914 - val_acc: 0.2875\n"
          ],
          "name": "stdout"
        },
        {
          "output_type": "execute_result",
          "data": {
            "text/plain": [
              "<keras.callbacks.History at 0x7f23d2878320>"
            ]
          },
          "metadata": {
            "tags": []
          },
          "execution_count": 79
        },
        {
          "output_type": "stream",
          "text": [
            "\n",
            "Question             Prediction   Answer\n",
            "0+9+4+4+8+3+2+5+9+7    56         51    \u001b[91m ☒ \u001b[0m\n",
            "3+4+5+6+7+8+9+0+1+2    55         45    \u001b[91m ☒ \u001b[0m\n",
            "2+6+4+7+5+5+5+2+9+2    46         47    \u001b[91m ☒ \u001b[0m\n",
            "8+9+2+3+5+5+9+4+2+1    43         48    \u001b[91m ☒ \u001b[0m\n",
            "7+5+1+3+4+9+4+1+8+5    56         47    \u001b[91m ☒ \u001b[0m\n",
            "9+0+1+7+8+9+9+8+9+8    46         68    \u001b[91m ☒ \u001b[0m\n",
            "9+0+1+2+3+4+5+6+7+8    43         45    \u001b[91m ☒ \u001b[0m\n",
            "4+5+7+2+6+4+9+4+9+4    56         54    \u001b[91m ☒ \u001b[0m\n",
            "4+6+0+4+5+4+1+3+8+6    46         41    \u001b[91m ☒ \u001b[0m\n",
            "1+6+0+0+1+2+3+4+5+6    43         28    \u001b[91m ☒ \u001b[0m\n",
            "\n",
            "--------------------------------------------------\n",
            "Iteration 3\n",
            "Train on 6000 samples, validate on 1000 samples\n",
            "Epoch 1/1\n",
            "6000/6000 [==============================] - 20s 3ms/step - loss: 1.7968 - acc: 0.2655 - val_loss: 1.7364 - val_acc: 0.3285\n"
          ],
          "name": "stdout"
        },
        {
          "output_type": "execute_result",
          "data": {
            "text/plain": [
              "<keras.callbacks.History at 0x7f23d2875da0>"
            ]
          },
          "metadata": {
            "tags": []
          },
          "execution_count": 79
        },
        {
          "output_type": "stream",
          "text": [
            "\n",
            "Question             Prediction   Answer\n",
            "9+6+1+9+7+7+1+4+8+5    45         57    \u001b[91m ☒ \u001b[0m\n",
            "5+4+3+4+2+8+1+5+1+0    35         33    \u001b[91m ☒ \u001b[0m\n",
            "1+1+1+1+7+2+4+7+5+2    35         31    \u001b[91m ☒ \u001b[0m\n",
            "7+4+2+7+4+9+1+0+6+8    55         48    \u001b[91m ☒ \u001b[0m\n",
            "4+4+1+2+9+1+4+6+9+9    55         49    \u001b[91m ☒ \u001b[0m\n",
            "7+2+0+0+9+1+7+8+7+8    35         49    \u001b[91m ☒ \u001b[0m\n",
            "8+5+7+7+9+1+8+1+8+0    45         54    \u001b[91m ☒ \u001b[0m\n",
            "9+9+5+5+1+5+6+0+3+4    45         47    \u001b[91m ☒ \u001b[0m\n",
            "6+7+3+1+7+1+8+2+0+2    45         37    \u001b[91m ☒ \u001b[0m\n",
            "4+9+9+7+1+1+9+0+7+8    45         55    \u001b[91m ☒ \u001b[0m\n",
            "\n",
            "--------------------------------------------------\n",
            "Iteration 4\n",
            "Train on 6000 samples, validate on 1000 samples\n",
            "Epoch 1/1\n",
            "6000/6000 [==============================] - 20s 3ms/step - loss: 1.7605 - acc: 0.2860 - val_loss: 1.7146 - val_acc: 0.3190\n"
          ],
          "name": "stdout"
        },
        {
          "output_type": "execute_result",
          "data": {
            "text/plain": [
              "<keras.callbacks.History at 0x7f23d287afd0>"
            ]
          },
          "metadata": {
            "tags": []
          },
          "execution_count": 79
        },
        {
          "output_type": "stream",
          "text": [
            "\n",
            "Question             Prediction   Answer\n",
            "0+7+6+6+9+3+7+0+5+2    45         45    \u001b[92m ☑ \u001b[0m\n",
            "7+8+1+1+2+9+7+8+4+0    46         47    \u001b[91m ☒ \u001b[0m\n",
            "0+1+2+3+4+5+6+7+8+9    45         45    \u001b[92m ☑ \u001b[0m\n",
            "8+7+9+4+8+8+7+9+7+1    56         68    \u001b[91m ☒ \u001b[0m\n",
            "3+3+8+4+1+1+9+7+4+3    43         43    \u001b[92m ☑ \u001b[0m\n",
            "0+7+3+5+4+2+4+1+8+3    45         37    \u001b[91m ☒ \u001b[0m\n",
            "6+3+4+4+2+8+1+0+6+4    44         38    \u001b[91m ☒ \u001b[0m\n",
            "6+9+8+4+3+7+1+6+4+5    56         53    \u001b[91m ☒ \u001b[0m\n",
            "5+4+8+8+4+0+0+2+3+2    45         36    \u001b[91m ☒ \u001b[0m\n",
            "4+7+3+9+8+8+4+7+1+2    46         53    \u001b[91m ☒ \u001b[0m\n",
            "\n",
            "--------------------------------------------------\n",
            "Iteration 5\n",
            "Train on 6000 samples, validate on 1000 samples\n",
            "Epoch 1/1\n",
            "6000/6000 [==============================] - 20s 3ms/step - loss: 1.7416 - acc: 0.2918 - val_loss: 1.7054 - val_acc: 0.2975\n"
          ],
          "name": "stdout"
        },
        {
          "output_type": "execute_result",
          "data": {
            "text/plain": [
              "<keras.callbacks.History at 0x7f23d2866358>"
            ]
          },
          "metadata": {
            "tags": []
          },
          "execution_count": 79
        },
        {
          "output_type": "stream",
          "text": [
            "\n",
            "Question             Prediction   Answer\n",
            "3+6+9+6+0+2+7+4+4+4    40         45    \u001b[91m ☒ \u001b[0m\n",
            "4+3+2+3+5+6+8+8+6+2    40         47    \u001b[91m ☒ \u001b[0m\n",
            "3+4+5+6+7+8+9+0+1+2    50         45    \u001b[91m ☒ \u001b[0m\n",
            "9+4+5+8+4+2+9+7+0+0    51         48    \u001b[91m ☒ \u001b[0m\n",
            "7+2+3+4+0+2+1+8+3+5    39         35    \u001b[91m ☒ \u001b[0m\n",
            "1+6+8+9+9+0+1+2+4+4    40         44    \u001b[91m ☒ \u001b[0m\n",
            "7+1+3+4+5+8+0+9+1+3    40         41    \u001b[91m ☒ \u001b[0m\n",
            "9+0+1+2+3+5+6+0+1+2    30         29    \u001b[91m ☒ \u001b[0m\n",
            "4+9+0+0+5+2+5+0+7+1    40         33    \u001b[91m ☒ \u001b[0m\n",
            "8+7+9+4+8+8+7+9+7+1    50         68    \u001b[91m ☒ \u001b[0m\n",
            "\n",
            "--------------------------------------------------\n",
            "Iteration 6\n",
            "Train on 6000 samples, validate on 1000 samples\n",
            "Epoch 1/1\n",
            "6000/6000 [==============================] - 20s 3ms/step - loss: 1.7189 - acc: 0.3018 - val_loss: 1.7303 - val_acc: 0.2790\n"
          ],
          "name": "stdout"
        },
        {
          "output_type": "execute_result",
          "data": {
            "text/plain": [
              "<keras.callbacks.History at 0x7f23d2866128>"
            ]
          },
          "metadata": {
            "tags": []
          },
          "execution_count": 79
        },
        {
          "output_type": "stream",
          "text": [
            "\n",
            "Question             Prediction   Answer\n",
            "4+6+0+4+5+4+1+3+8+6    40         41    \u001b[91m ☒ \u001b[0m\n",
            "5+8+8+0+9+3+2+7+8+4    52         54    \u001b[91m ☒ \u001b[0m\n",
            "9+4+4+7+6+5+4+1+9+9    52         58    \u001b[91m ☒ \u001b[0m\n",
            "2+3+7+8+1+0+0+2+1+6    32         30    \u001b[91m ☒ \u001b[0m\n",
            "2+8+5+8+5+1+1+4+4+3    52         41    \u001b[91m ☒ \u001b[0m\n",
            "2+0+9+7+6+7+4+1+6+2    52         44    \u001b[91m ☒ \u001b[0m\n",
            "4+0+5+0+4+4+7+9+3+4    52         40    \u001b[91m ☒ \u001b[0m\n",
            "1+7+7+4+8+0+7+3+1+3    32         41    \u001b[91m ☒ \u001b[0m\n",
            "5+9+1+4+2+0+2+7+0+9    32         39    \u001b[91m ☒ \u001b[0m\n",
            "3+6+9+3+1+4+1+7+6+9    52         49    \u001b[91m ☒ \u001b[0m\n",
            "\n",
            "--------------------------------------------------\n",
            "Iteration 7\n",
            "Train on 6000 samples, validate on 1000 samples\n",
            "Epoch 1/1\n",
            "6000/6000 [==============================] - 20s 3ms/step - loss: 1.6963 - acc: 0.3101 - val_loss: 1.6644 - val_acc: 0.3125\n"
          ],
          "name": "stdout"
        },
        {
          "output_type": "execute_result",
          "data": {
            "text/plain": [
              "<keras.callbacks.History at 0x7f23d2866160>"
            ]
          },
          "metadata": {
            "tags": []
          },
          "execution_count": 79
        },
        {
          "output_type": "stream",
          "text": [
            "\n",
            "Question             Prediction   Answer\n",
            "2+2+0+8+9+2+5+1+0+8    22         37    \u001b[91m ☒ \u001b[0m\n",
            "6+9+8+4+3+7+1+6+4+5    52         53    \u001b[91m ☒ \u001b[0m\n",
            "8+1+4+7+5+7+2+2+0+0    39         36    \u001b[91m ☒ \u001b[0m\n",
            "0+8+9+8+9+4+2+5+7+9    52         61    \u001b[91m ☒ \u001b[0m\n",
            "5+5+4+0+8+2+1+0+8+4    42         37    \u001b[91m ☒ \u001b[0m\n",
            "7+4+7+0+0+6+6+6+3+7    48         46    \u001b[91m ☒ \u001b[0m\n",
            "6+9+8+7+1+1+6+7+6+3    52         54    \u001b[91m ☒ \u001b[0m\n",
            "3+4+5+6+7+8+9+0+1+2    42         45    \u001b[91m ☒ \u001b[0m\n",
            "2+7+8+1+7+1+3+8+5+4    49         46    \u001b[91m ☒ \u001b[0m\n",
            "6+8+8+0+1+2+3+4+7+8    52         47    \u001b[91m ☒ \u001b[0m\n",
            "\n",
            "--------------------------------------------------\n",
            "Iteration 8\n",
            "Train on 6000 samples, validate on 1000 samples\n",
            "Epoch 1/1\n",
            "6000/6000 [==============================] - 20s 3ms/step - loss: 1.6757 - acc: 0.3201 - val_loss: 1.6663 - val_acc: 0.3175\n"
          ],
          "name": "stdout"
        },
        {
          "output_type": "execute_result",
          "data": {
            "text/plain": [
              "<keras.callbacks.History at 0x7f23d28da6d8>"
            ]
          },
          "metadata": {
            "tags": []
          },
          "execution_count": 79
        },
        {
          "output_type": "stream",
          "text": [
            "\n",
            "Question             Prediction   Answer\n",
            "8+7+3+9+7+4+4+4+9+2    53         57    \u001b[91m ☒ \u001b[0m\n",
            "3+4+5+6+7+8+9+0+1+2    43         45    \u001b[91m ☒ \u001b[0m\n",
            "1+7+9+1+9+2+6+7+6+6    53         54    \u001b[91m ☒ \u001b[0m\n",
            "0+1+2+3+4+5+6+7+8+9    43         45    \u001b[91m ☒ \u001b[0m\n",
            "4+5+6+7+8+9+0+1+2+3    46         45    \u001b[91m ☒ \u001b[0m\n",
            "4+7+7+7+9+8+4+3+8+2    53         59    \u001b[91m ☒ \u001b[0m\n",
            "5+2+0+9+1+8+6+2+3+9    36         45    \u001b[91m ☒ \u001b[0m\n",
            "6+2+7+3+3+2+1+0+7+3    36         34    \u001b[91m ☒ \u001b[0m\n",
            "8+9+6+1+8+4+1+2+5+9    53         53    \u001b[92m ☑ \u001b[0m\n",
            "8+4+0+0+7+2+4+3+8+6    36         42    \u001b[91m ☒ \u001b[0m\n",
            "\n",
            "--------------------------------------------------\n",
            "Iteration 9\n",
            "Train on 6000 samples, validate on 1000 samples\n",
            "Epoch 1/1\n",
            "6000/6000 [==============================] - 20s 3ms/step - loss: 1.6608 - acc: 0.3298 - val_loss: 1.6536 - val_acc: 0.3290\n"
          ],
          "name": "stdout"
        },
        {
          "output_type": "execute_result",
          "data": {
            "text/plain": [
              "<keras.callbacks.History at 0x7f23d28666a0>"
            ]
          },
          "metadata": {
            "tags": []
          },
          "execution_count": 79
        },
        {
          "output_type": "stream",
          "text": [
            "\n",
            "Question             Prediction   Answer\n",
            "9+8+6+6+4+2+6+9+2+8    59         60    \u001b[91m ☒ \u001b[0m\n",
            "7+1+3+5+4+3+3+5+5+6    49         42    \u001b[91m ☒ \u001b[0m\n",
            "4+6+0+4+5+4+1+3+8+6    49         41    \u001b[91m ☒ \u001b[0m\n",
            "6+7+3+1+7+1+8+2+0+2    49         37    \u001b[91m ☒ \u001b[0m\n",
            "4+0+5+0+4+4+7+9+3+4    51         40    \u001b[91m ☒ \u001b[0m\n",
            "5+7+6+9+1+4+1+6+4+2    59         45    \u001b[91m ☒ \u001b[0m\n",
            "1+3+6+6+2+9+1+9+4+8    41         49    \u001b[91m ☒ \u001b[0m\n",
            "0+0+8+3+4+3+1+5+0+0    31         24    \u001b[91m ☒ \u001b[0m\n",
            "4+4+1+2+9+1+4+6+9+9    41         49    \u001b[91m ☒ \u001b[0m\n",
            "4+7+2+8+4+7+0+6+2+8    39         48    \u001b[91m ☒ \u001b[0m\n",
            "\n",
            "--------------------------------------------------\n",
            "Iteration 10\n",
            "Train on 6000 samples, validate on 1000 samples\n",
            "Epoch 1/1\n",
            "6000/6000 [==============================] - 20s 3ms/step - loss: 1.6476 - acc: 0.3313 - val_loss: 1.6503 - val_acc: 0.3170\n"
          ],
          "name": "stdout"
        },
        {
          "output_type": "execute_result",
          "data": {
            "text/plain": [
              "<keras.callbacks.History at 0x7f23d2866320>"
            ]
          },
          "metadata": {
            "tags": []
          },
          "execution_count": 79
        },
        {
          "output_type": "stream",
          "text": [
            "\n",
            "Question             Prediction   Answer\n",
            "4+9+0+0+5+2+5+0+7+1    46         33    \u001b[91m ☒ \u001b[0m\n",
            "6+0+5+4+9+9+2+1+9+4    46         49    \u001b[91m ☒ \u001b[0m\n",
            "4+4+1+5+2+8+3+4+9+5    46         45    \u001b[91m ☒ \u001b[0m\n",
            "6+2+5+4+1+9+2+1+5+8    46         43    \u001b[91m ☒ \u001b[0m\n",
            "7+4+2+1+5+4+5+5+8+6    46         47    \u001b[91m ☒ \u001b[0m\n",
            "5+0+2+7+4+6+6+8+6+6    56         50    \u001b[91m ☒ \u001b[0m\n",
            "6+9+2+3+3+7+7+0+0+7    56         44    \u001b[91m ☒ \u001b[0m\n",
            "0+8+4+6+2+6+7+9+3+2    46         47    \u001b[91m ☒ \u001b[0m\n",
            "3+4+5+8+9+0+1+2+3+4    46         39    \u001b[91m ☒ \u001b[0m\n",
            "5+6+7+8+9+0+1+2+3+4    46         45    \u001b[91m ☒ \u001b[0m\n",
            "\n",
            "--------------------------------------------------\n",
            "Iteration 11\n",
            "Train on 6000 samples, validate on 1000 samples\n",
            "Epoch 1/1\n",
            "6000/6000 [==============================] - 20s 3ms/step - loss: 1.6391 - acc: 0.3359 - val_loss: 1.6309 - val_acc: 0.3335\n"
          ],
          "name": "stdout"
        },
        {
          "output_type": "execute_result",
          "data": {
            "text/plain": [
              "<keras.callbacks.History at 0x7f23d2866438>"
            ]
          },
          "metadata": {
            "tags": []
          },
          "execution_count": 79
        },
        {
          "output_type": "stream",
          "text": [
            "\n",
            "Question             Prediction   Answer\n",
            "8+9+0+1+2+3+4+5+6+7    46         45    \u001b[91m ☒ \u001b[0m\n",
            "9+9+0+0+1+8+8+4+3+4    46         46    \u001b[92m ☑ \u001b[0m\n",
            "0+3+1+8+6+7+5+9+9+3    56         51    \u001b[91m ☒ \u001b[0m\n",
            "9+4+7+0+2+3+4+0+0+8    46         37    \u001b[91m ☒ \u001b[0m\n",
            "7+8+9+0+1+2+3+4+7+8    46         49    \u001b[91m ☒ \u001b[0m\n",
            "0+6+1+6+8+7+0+1+5+0    36         34    \u001b[91m ☒ \u001b[0m\n",
            "9+3+4+0+7+9+6+4+1+4    46         47    \u001b[91m ☒ \u001b[0m\n",
            "5+6+7+8+9+0+1+2+3+5    46         46    \u001b[92m ☑ \u001b[0m\n",
            "2+7+8+1+7+1+3+8+5+4    46         46    \u001b[92m ☑ \u001b[0m\n",
            "8+7+8+9+0+8+4+4+5+8    56         61    \u001b[91m ☒ \u001b[0m\n",
            "\n",
            "--------------------------------------------------\n",
            "Iteration 12\n",
            "Train on 6000 samples, validate on 1000 samples\n",
            "Epoch 1/1\n",
            "6000/6000 [==============================] - 20s 3ms/step - loss: 1.6311 - acc: 0.3407 - val_loss: 1.6237 - val_acc: 0.3490\n"
          ],
          "name": "stdout"
        },
        {
          "output_type": "execute_result",
          "data": {
            "text/plain": [
              "<keras.callbacks.History at 0x7f23d28da358>"
            ]
          },
          "metadata": {
            "tags": []
          },
          "execution_count": 79
        },
        {
          "output_type": "stream",
          "text": [
            "\n",
            "Question             Prediction   Answer\n",
            "5+6+2+3+9+2+6+0+0+6    33         39    \u001b[91m ☒ \u001b[0m\n",
            "4+7+6+2+2+0+9+4+0+1    33         35    \u001b[91m ☒ \u001b[0m\n",
            "7+2+6+9+3+1+4+6+2+5    43         45    \u001b[91m ☒ \u001b[0m\n",
            "8+9+0+1+2+3+4+5+6+7    43         45    \u001b[91m ☒ \u001b[0m\n",
            "5+8+2+6+2+2+5+6+5+0    43         41    \u001b[91m ☒ \u001b[0m\n",
            "9+2+7+1+8+8+8+2+7+6    43         58    \u001b[91m ☒ \u001b[0m\n",
            "1+6+0+0+1+2+3+4+5+6    30         28    \u001b[91m ☒ \u001b[0m\n",
            "9+5+8+6+2+6+2+8+1+7    46         54    \u001b[91m ☒ \u001b[0m\n",
            "3+6+9+8+7+1+0+5+7+1    43         47    \u001b[91m ☒ \u001b[0m\n",
            "5+2+2+0+9+2+6+6+0+1    43         33    \u001b[91m ☒ \u001b[0m\n",
            "\n",
            "--------------------------------------------------\n",
            "Iteration 13\n",
            "Train on 6000 samples, validate on 1000 samples\n",
            "Epoch 1/1\n",
            "6000/6000 [==============================] - 20s 3ms/step - loss: 1.6177 - acc: 0.3540 - val_loss: 1.6395 - val_acc: 0.3340\n"
          ],
          "name": "stdout"
        },
        {
          "output_type": "execute_result",
          "data": {
            "text/plain": [
              "<keras.callbacks.History at 0x7f23d286dcf8>"
            ]
          },
          "metadata": {
            "tags": []
          },
          "execution_count": 79
        },
        {
          "output_type": "stream",
          "text": [
            "\n",
            "Question             Prediction   Answer\n",
            "0+3+3+8+4+3+6+3+5+0    41         35    \u001b[91m ☒ \u001b[0m\n",
            "7+7+4+7+7+3+7+4+5+4    51         55    \u001b[91m ☒ \u001b[0m\n",
            "8+3+8+1+5+3+5+0+5+5    41         43    \u001b[91m ☒ \u001b[0m\n",
            "9+3+9+2+2+9+2+1+8+3    46         48    \u001b[91m ☒ \u001b[0m\n",
            "9+9+0+0+1+8+8+4+3+4    41         46    \u001b[91m ☒ \u001b[0m\n",
            "6+9+9+9+2+1+6+1+3+5    41         51    \u001b[91m ☒ \u001b[0m\n",
            "6+0+8+2+9+2+8+8+8+8    41         59    \u001b[91m ☒ \u001b[0m\n",
            "0+0+3+0+2+6+6+4+9+3    41         33    \u001b[91m ☒ \u001b[0m\n",
            "5+6+9+3+6+3+6+0+1+2    41         41    \u001b[92m ☑ \u001b[0m\n",
            "5+5+9+1+7+5+4+9+1+2    41         48    \u001b[91m ☒ \u001b[0m\n",
            "\n",
            "--------------------------------------------------\n",
            "Iteration 14\n",
            "Train on 6000 samples, validate on 1000 samples\n",
            "Epoch 1/1\n",
            "6000/6000 [==============================] - 20s 3ms/step - loss: 1.6173 - acc: 0.3511 - val_loss: 1.6107 - val_acc: 0.3520\n"
          ],
          "name": "stdout"
        },
        {
          "output_type": "execute_result",
          "data": {
            "text/plain": [
              "<keras.callbacks.History at 0x7f23d28da400>"
            ]
          },
          "metadata": {
            "tags": []
          },
          "execution_count": 79
        },
        {
          "output_type": "stream",
          "text": [
            "\n",
            "Question             Prediction   Answer\n",
            "4+9+8+3+7+4+0+4+7+8    46         54    \u001b[91m ☒ \u001b[0m\n",
            "4+6+1+0+4+5+3+9+4+2    46         38    \u001b[91m ☒ \u001b[0m\n",
            "8+1+0+0+7+7+8+7+5+0    41         43    \u001b[91m ☒ \u001b[0m\n",
            "3+1+9+0+9+3+6+8+7+0    46         46    \u001b[92m ☑ \u001b[0m\n",
            "1+3+5+0+7+8+1+5+1+4    36         35    \u001b[91m ☒ \u001b[0m\n",
            "0+3+9+2+8+1+4+3+5+2    31         37    \u001b[91m ☒ \u001b[0m\n",
            "7+5+8+8+3+8+9+2+6+2    56         58    \u001b[91m ☒ \u001b[0m\n",
            "6+7+1+2+5+8+0+3+7+2    33         41    \u001b[91m ☒ \u001b[0m\n",
            "7+6+2+7+8+4+7+3+6+1    56         51    \u001b[91m ☒ \u001b[0m\n",
            "2+4+4+3+3+6+9+9+5+8    56         53    \u001b[91m ☒ \u001b[0m\n",
            "\n",
            "--------------------------------------------------\n",
            "Iteration 15\n",
            "Train on 6000 samples, validate on 1000 samples\n",
            "Epoch 1/1\n",
            "6000/6000 [==============================] - 20s 3ms/step - loss: 1.6109 - acc: 0.3547 - val_loss: 1.6169 - val_acc: 0.3450\n"
          ],
          "name": "stdout"
        },
        {
          "output_type": "execute_result",
          "data": {
            "text/plain": [
              "<keras.callbacks.History at 0x7f23d2875b38>"
            ]
          },
          "metadata": {
            "tags": []
          },
          "execution_count": 79
        },
        {
          "output_type": "stream",
          "text": [
            "\n",
            "Question             Prediction   Answer\n",
            "6+3+7+7+4+4+3+9+2+8    53         53    \u001b[92m ☑ \u001b[0m\n",
            "8+6+5+9+0+0+0+3+7+1    36         39    \u001b[91m ☒ \u001b[0m\n",
            "3+7+8+0+1+2+3+4+7+8    46         43    \u001b[91m ☒ \u001b[0m\n",
            "0+4+4+4+4+6+1+2+3+3    36         31    \u001b[91m ☒ \u001b[0m\n",
            "1+8+0+2+0+5+2+1+3+7    39         29    \u001b[91m ☒ \u001b[0m\n",
            "2+3+4+7+8+9+0+8+3+9    53         53    \u001b[92m ☑ \u001b[0m\n",
            "0+9+4+4+8+3+2+5+9+7    51         51    \u001b[92m ☑ \u001b[0m\n",
            "2+9+7+2+1+1+3+7+5+3    36         40    \u001b[91m ☒ \u001b[0m\n",
            "0+1+2+1+3+2+0+7+2+6    36         24    \u001b[91m ☒ \u001b[0m\n",
            "8+6+1+0+2+1+4+0+1+2    26         25    \u001b[91m ☒ \u001b[0m\n"
          ],
          "name": "stdout"
        }
      ]
    },
    {
      "metadata": {
        "id": "rb9XHvj-P8h0",
        "colab_type": "text"
      },
      "cell_type": "markdown",
      "source": [
        "### Performance in test data "
      ]
    },
    {
      "metadata": {
        "id": "gL9_-60XqCpY",
        "colab_type": "code",
        "colab": {
          "autoexec": {
            "startup": false,
            "wait_interval": 0
          },
          "base_uri": "https://localhost:8080/",
          "height": 85
        },
        "outputId": "cd93a2b5-a306-43f4-c7a2-14da415a1d4c",
        "executionInfo": {
          "status": "ok",
          "timestamp": 1523207478123,
          "user_tz": -120,
          "elapsed": 2056,
          "user": {
            "displayName": "Jorge Gómez",
            "photoUrl": "//lh5.googleusercontent.com/-OHXqZEKFiwY/AAAAAAAAAAI/AAAAAAAAG1Q/EYd5cagCTIo/s50-c-k-no/photo.jpg",
            "userId": "108155755194959101108"
          }
        }
      },
      "cell_type": "code",
      "source": [
        "score = model.evaluate(X_test_input, y_test_seq, verbose = 1)\n",
        "print('\\nTest loss:', score[0])\n",
        "print('Test accuracy:', score[1])"
      ],
      "execution_count": 81,
      "outputs": [
        {
          "output_type": "stream",
          "text": [
            "1000/1000 [==============================] - 2s 2ms/step\n",
            "\n",
            "Test loss: 1.616915943145752\n",
            "Test accuracy: 0.345\n"
          ],
          "name": "stdout"
        }
      ]
    },
    {
      "metadata": {
        "id": "fsFgLCGAKEAQ",
        "colab_type": "text"
      },
      "cell_type": "markdown",
      "source": [
        "### Justification\n",
        "\n",
        "For this task, we were asked to train a Neural Network that is the combination of Convolutional Layers and Recurrent units to solve the problem of summing up a set of 10 images from the MNIST dataset. This is, we want to input a sequence of 10 digits images ($x_1 ... x_{10}$) and output the sum of these digits ($Y$).\n",
        "\n",
        "In order to achieve this, we create a delayed sequence-to-sequence model where the input sequence are the 10 digits (images) to sum up and the output sequence  is the decomposition of $Y$ into digits (e.g. if the result is 45, the sequence is \\[4, 5\\]). Note that at the most, we can have a result of two digits $(y_1, y_2)$, since the maximum value of each digit is 9 and `9x10=90`. The architecture of our model is then based on this approach and we can depict it as next:\n",
        "\n",
        "- Convolutional component\n",
        " - Receive 10 `28x28x1` images with the `ConvLSTM2D` layer\n",
        " - Then, apply a set of Conv2D, MaxPooling and Dropout layers to build the features of the images as we would to in a CNN\n",
        " - After the last convolution layer, we flatten the resulting vector and pass that to the RNN component to form a fully-connected layer\n",
        "- Recurrent component\n",
        " - Two GRU units that\n",
        " - A Dense layer to predict the sequence of two digits that represent the sum of the 10 images, by means of a softmax function.\n",
        "\n",
        "In the previous cells we showed this architecture in detail. \n",
        "\n",
        "For the Convolutional component we have just followed a typical CNN architecture where at each layer the size of the feature maps would increase (32 -> 64) and Dropout layers for regularization were applied. On the other hand, for the Recurrent unit, we have tested different units (GRU, LSTM and SimpleRNN) but GRU was the one with the best accuracy.\n",
        "\n",
        "We can observe that after 15 epochs, the model is not able to learn all the correct sums, indeed our accuracy is low (34%). This is somehow expected since we are learning from images and not the actual digits. More specifically, we are extracting the features of the images and based on them predicting $y$. One can say that the problem itself is complex since we only have 10 digits and very similar sums (expected value of the sum is 45), and even in that setting the model is learning to predict results that are not really far from the true answer, as observed in the output.\n",
        "\n",
        "It comes important to mention that while testing we have tried a different model, where based on the convolutional layers we would predict a real number (regression). However, with that approach the model learned to predict the expected value of the sums (45) for any input and we decided to drop it.\n"
      ]
    }
  ]
}